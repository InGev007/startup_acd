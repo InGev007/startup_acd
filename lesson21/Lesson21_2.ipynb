{
 "cells": [
  {
   "cell_type": "code",
   "execution_count": 1,
   "id": "ab8ff6e7",
   "metadata": {},
   "outputs": [
    {
     "name": "stdout",
     "output_type": "stream",
     "text": [
      "[1, 3, 2]\n",
      "[4, 2, 0]\n",
      "[-1, 3, 10]\n"
     ]
    }
   ],
   "source": [
    "A = [[4, 2, 0],\n",
    "    [1, 3, 2],\n",
    "    [-1, 3, 10]]\n",
    "A[0], A[1] = A[1], A[0]\n",
    "for i in A:\n",
    "    print(i)"
   ]
  },
  {
   "cell_type": "code",
   "execution_count": 2,
   "id": "23e9645b",
   "metadata": {},
   "outputs": [
    {
     "name": "stdout",
     "output_type": "stream",
     "text": [
      "[1, 3, 2]\n",
      "[0, -10, -8]\n",
      "[0, 6, 12]\n",
      "\n",
      "[1, 3, 2]\n",
      "[0, 5, 4]\n",
      "[0, 1, 2]\n"
     ]
    }
   ],
   "source": [
    "for i in range(0,3):\n",
    "    A[1][i]=A[1][i]+(A[0][i]*(-4))\n",
    "    A[2][i]=A[2][i]+A[0][i]\n",
    "for i in A:\n",
    "    print(i)\n",
    "print(\"\")\n",
    "    \n",
    "for i in range(0,3):\n",
    "    A[1][i]=int(A[1][i]/(-2))\n",
    "    A[2][i]=int(A[2][i]/6)\n",
    "for i in A:\n",
    "    print(i)"
   ]
  },
  {
   "cell_type": "code",
   "execution_count": 3,
   "id": "87a1290b",
   "metadata": {},
   "outputs": [
    {
     "name": "stdout",
     "output_type": "stream",
     "text": [
      "[1, 3, 2]\n",
      "[0, 1, 2]\n",
      "[0, 0, -6]\n"
     ]
    }
   ],
   "source": [
    "A[1], A[2] = A[2], A[1]\n",
    "for i in range(0,3):\n",
    "    A[2][i]=A[2][i]+(A[1][i]*(-5))\n",
    "for i in A:\n",
    "    print(i)"
   ]
  }
 ],
 "metadata": {
  "kernelspec": {
   "display_name": "Python 3 (ipykernel)",
   "language": "python",
   "name": "python3"
  },
  "language_info": {
   "codemirror_mode": {
    "name": "ipython",
    "version": 3
   },
   "file_extension": ".py",
   "mimetype": "text/x-python",
   "name": "python",
   "nbconvert_exporter": "python",
   "pygments_lexer": "ipython3",
   "version": "3.10.6"
  }
 },
 "nbformat": 4,
 "nbformat_minor": 5
}
