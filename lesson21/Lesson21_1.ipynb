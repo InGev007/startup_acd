{
 "cells": [
  {
   "cell_type": "code",
   "execution_count": 28,
   "id": "a68f3323",
   "metadata": {},
   "outputs": [],
   "source": [
    "class Matrix:\n",
    "    def __init__(self, m_list):\n",
    "        for i in range(len(m_list)-1):\n",
    "            if len(m_list[i]) != len(m_list[i+1]):\n",
    "                raise Exception (f\"Can't create matrix from {m_list} list\")\n",
    "        self.matrix = m_list\n",
    "        \n",
    "        \n",
    "    def __str__(self):\n",
    "        rows_string = \"\"\n",
    "        for row in self.matrix:\n",
    "            rows_string += f\"{row}\\n\"\n",
    "        return rows_string\n",
    "    \n",
    "    \n",
    "    def __len__(self):\n",
    "        return len(self.matrix)\n",
    "    \n",
    "    \n",
    "    def __getitem__(self,key):\n",
    "        return self.matrix[key]\n",
    "\n",
    "    \n",
    "    def colums(self):\n",
    "        return len(self.matrix[0])\n",
    "\n",
    "    \n",
    "    def transpose(self):\n",
    "        transpose_matrix = [[0] * len(self.matrix) for _ in range(len(self.matrix[0]))]\n",
    "        for i in range(len(self.matrix)):\n",
    "            for j in range(len(self.matrix[i])):\n",
    "                transpose_matrix[j][i] = self.matrix[i][j]\n",
    "        self.matrix = transpose_matrix\n",
    "        return self\n",
    "    \n",
    "    \n",
    "    def __add__(self, data):\n",
    "        temp_matrix=[]\n",
    "        for row in range(max(len(self.matrix),len(data))):\n",
    "            temp_matrix.append([])\n",
    "            for column in range(max(len(self.matrix[row]),len(data[row]))):\n",
    "                temp_matrix[row].append(self.matrix[row][column]+data[row][column])\n",
    "        return Matrix(temp_matrix)\n",
    "\n",
    "    def __null_matrix(row, column):\n",
    "        temp_matrix=[]\n",
    "        for i in range(row):\n",
    "            temp_matrix.append([])\n",
    "            for j in range(column):\n",
    "                temp_matrix[i].append(0)\n",
    "        return temp_matrix"
   ]
  },
  {
   "cell_type": "code",
   "execution_count": 29,
   "id": "d509388b",
   "metadata": {},
   "outputs": [
    {
     "name": "stdout",
     "output_type": "stream",
     "text": [
      "[12, 7, 3]\n",
      "[4, 5, 6]\n",
      "[4, 5, 6]\n",
      "\n",
      "\n",
      "[12, 4, 4]\n",
      "[7, 5, 5]\n",
      "[3, 6, 6]\n",
      "\n",
      "\n"
     ]
    },
    {
     "ename": "IndexError",
     "evalue": "list index out of range",
     "output_type": "error",
     "traceback": [
      "\u001b[1;31m---------------------------------------------------------------------------\u001b[0m",
      "\u001b[1;31mIndexError\u001b[0m                                Traceback (most recent call last)",
      "Cell \u001b[1;32mIn [29], line 8\u001b[0m\n\u001b[0;32m      6\u001b[0m matrix_b\u001b[38;5;241m.\u001b[39mtranspose()\n\u001b[0;32m      7\u001b[0m \u001b[38;5;28mprint\u001b[39m(\u001b[38;5;124m\"\u001b[39m\u001b[38;5;124m\"\u001b[39m)\n\u001b[1;32m----> 8\u001b[0m \u001b[38;5;28mprint\u001b[39m(\u001b[43mmatrix_a\u001b[49m\u001b[38;5;241;43m+\u001b[39;49m\u001b[43mmatrix_b\u001b[49m)\n",
      "Cell \u001b[1;32mIn [28], line 30\u001b[0m, in \u001b[0;36mMatrix.__add__\u001b[1;34m(self, data)\u001b[0m\n\u001b[0;32m     28\u001b[0m     temp_matrix\u001b[38;5;241m.\u001b[39mappend([])\n\u001b[0;32m     29\u001b[0m     \u001b[38;5;28;01mfor\u001b[39;00m column \u001b[38;5;129;01min\u001b[39;00m \u001b[38;5;28mrange\u001b[39m(\u001b[38;5;28mmax\u001b[39m(\u001b[38;5;28mlen\u001b[39m(\u001b[38;5;28mself\u001b[39m\u001b[38;5;241m.\u001b[39mmatrix[row]),\u001b[38;5;28mlen\u001b[39m(data[row]))):\n\u001b[1;32m---> 30\u001b[0m         temp_matrix[row]\u001b[38;5;241m.\u001b[39mappend(\u001b[38;5;28mself\u001b[39m\u001b[38;5;241m.\u001b[39mmatrix[row][column]\u001b[38;5;241m+\u001b[39m\u001b[43mdata\u001b[49m\u001b[43m[\u001b[49m\u001b[43mrow\u001b[49m\u001b[43m]\u001b[49m\u001b[43m[\u001b[49m\u001b[43mcolumn\u001b[49m\u001b[43m]\u001b[49m)\n\u001b[0;32m     31\u001b[0m \u001b[38;5;28;01mreturn\u001b[39;00m Matrix(temp_matrix)\n",
      "\u001b[1;31mIndexError\u001b[0m: list index out of range"
     ]
    }
   ],
   "source": [
    "matrix_a = Matrix([[8, 3, 7, 1], [6, 5, 4, 1], [6, 5, 4, 1]])\n",
    "matrix_b = Matrix([[12, 7, 3], [4, 5, 6], [4, 5, 6]])\n",
    "print(matrix_b)\n",
    "print(\"\")\n",
    "print(matrix_b.transpose())\n",
    "matrix_b.transpose()\n",
    "print(\"\")\n",
    "print(matrix_a+matrix_b)"
   ]
  },
  {
   "cell_type": "code",
   "execution_count": null,
   "id": "d1ade4e6",
   "metadata": {},
   "outputs": [],
   "source": []
  }
 ],
 "metadata": {
  "kernelspec": {
   "display_name": "Python 3 (ipykernel)",
   "language": "python",
   "name": "python3"
  },
  "language_info": {
   "codemirror_mode": {
    "name": "ipython",
    "version": 3
   },
   "file_extension": ".py",
   "mimetype": "text/x-python",
   "name": "python",
   "nbconvert_exporter": "python",
   "pygments_lexer": "ipython3",
   "version": "3.10.6"
  }
 },
 "nbformat": 4,
 "nbformat_minor": 5
}
