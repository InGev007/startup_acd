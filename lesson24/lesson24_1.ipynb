{
 "cells": [
  {
   "cell_type": "markdown",
   "id": "299031b5",
   "metadata": {},
   "source": [
    "## Завдання 1:"
   ]
  },
  {
   "cell_type": "markdown",
   "id": "f0b2af7b",
   "metadata": {},
   "source": [
    "### 1. Два економісти заповнюють документи з власними прогнозами щодо курсу певних цінних паперів, після чого їх складають у спільну папку. Ймовірність відхилення прогнозованого значення курсу від фактичного понад допустиму похибку для першого економіста дорівнює 0,1; для другого 0,2. Перший економіст заповнив 40 документів другий - 60. Під час перевірки навмання взятий із папки документ виявився з суттєвою похибкою. Визначити ймовірність того, що його склав перший економіст."
   ]
  },
  {
   "cell_type": "markdown",
   "id": "86d3fbba",
   "metadata": {},
   "source": [
    "## Вирішення:"
   ]
  },
  {
   "cell_type": "markdown",
   "id": "e7b3ec84",
   "metadata": {},
   "source": [
    "#### Спочатку знаходимо ймовірність події що навмання взятий документ виявявся з суттєвою похибкою\n",
    "$P(A) = P(A|E_1) \\times P(E_1) + P(A|E_2) \\times P(E_2)$"
   ]
  },
  {
   "cell_type": "code",
   "execution_count": 1,
   "id": "5d32b497",
   "metadata": {},
   "outputs": [
    {
     "name": "stdout",
     "output_type": "stream",
     "text": [
      "Ймовірність того що навмання взятий документ виявявся з суттєвою похибкою: 0.16\n"
     ]
    }
   ],
   "source": [
    "Pa=0.1*0.4 + 0.2*0.6\n",
    "print(f\"Ймовірність того що навмання взятий документ виявявся з суттєвою похибкою: {Pa}\")"
   ]
  },
  {
   "cell_type": "markdown",
   "id": "c509b110",
   "metadata": {},
   "source": [
    "#### За формулою Байєса знаходимо ймовірнисть того, що документ з похибкою заповнив  перший економіст\n",
    "$P(Е_1|A) = \\frac{P(E_1)P(A|E_1)}{P(A)}$"
   ]
  },
  {
   "cell_type": "code",
   "execution_count": 3,
   "id": "4c573d0a",
   "metadata": {
    "scrolled": true
   },
   "outputs": [
    {
     "name": "stdout",
     "output_type": "stream",
     "text": [
      "Ймовірнисть того, що документ з похибкою заповнив перший економіст: 0.25\n"
     ]
    }
   ],
   "source": [
    "Pa1=(0.1*0.4)/Pa\n",
    "print(f\"Ймовірнисть того, що документ з похибкою заповнив перший економіст: {round(Pa1,2)}\")"
   ]
  }
 ],
 "metadata": {
  "kernelspec": {
   "display_name": "Python 3 (ipykernel)",
   "language": "python",
   "name": "python3"
  },
  "language_info": {
   "codemirror_mode": {
    "name": "ipython",
    "version": 3
   },
   "file_extension": ".py",
   "mimetype": "text/x-python",
   "name": "python",
   "nbconvert_exporter": "python",
   "pygments_lexer": "ipython3",
   "version": "3.10.6"
  }
 },
 "nbformat": 4,
 "nbformat_minor": 5
}
