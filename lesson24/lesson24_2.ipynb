{
 "cells": [
  {
   "cell_type": "markdown",
   "id": "299031b5",
   "metadata": {},
   "source": [
    "## Завдання 2:"
   ]
  },
  {
   "cell_type": "markdown",
   "id": "f0b2af7b",
   "metadata": {},
   "source": [
    "### Є можливість вибрати спосіб виробництва і реалізації двох наборів товарів широкого вжитку. За даними відділу маркетингу, яким були проведені дослідження ринку, можливий прибуток від виробництва і реалізації Х і У наведено в таблицях (X, Y - прибуток у грошових одиницях):\n",
    "\n",
    "| X | 1000 | 1500 | 2000 | | Y | 1000 | 1500 | 1750 |\n",
    "|---|------|------|------|-|---|------|------|------|\n",
    "| P | 0.5  | 0.3  | 0.2  | | P | 0.4  | 0.4  | 0.2  |\n",
    "\n",
    "### Потрібно оцінити ступінь ризику і запропонувати рішення щодо випуску і реалізації одного із наборів товарів."
   ]
  },
  {
   "cell_type": "markdown",
   "id": "86d3fbba",
   "metadata": {},
   "source": [
    "## Вирішення:"
   ]
  },
  {
   "cell_type": "markdown",
   "id": "e7b3ec84",
   "metadata": {},
   "source": [
    "#### Спочатку знаходимо математичне очікування можливого прибутку для X та Y: \n",
    "$M[X] = \\sum_{i=1}^∞X_i P_i $"
   ]
  },
  {
   "cell_type": "code",
   "execution_count": 1,
   "id": "5d32b497",
   "metadata": {},
   "outputs": [
    {
     "name": "stdout",
     "output_type": "stream",
     "text": [
      "Математичне очікування можливого прибутку для X: 1350.0\n",
      "Математичне очікування можливого прибутку для Y: 1350.0\n"
     ]
    }
   ],
   "source": [
    "Mx=1000 * 0.5  +  1500 * 0.3  +  2000 * 0.2\n",
    "My=1000 * 0.4  +  1500 * 0.4  +  1750 * 0.2\n",
    "print(f\"Математичне очікування можливого прибутку для X: {Mx}\")\n",
    "print(f\"Математичне очікування можливого прибутку для Y: {My}\")"
   ]
  },
  {
   "cell_type": "markdown",
   "id": "c509b110",
   "metadata": {},
   "source": [
    "#### Знаходимо дисперсію для X та Y:\n",
    "$D(X) =  M(X^2) - M(X)^2$"
   ]
  },
  {
   "cell_type": "code",
   "execution_count": 4,
   "id": "4c573d0a",
   "metadata": {
    "scrolled": true
   },
   "outputs": [
    {
     "name": "stdout",
     "output_type": "stream",
     "text": [
      "Дисперсія для X: 152500.0\n",
      "Дисперсія для Y: 90000.0\n"
     ]
    }
   ],
   "source": [
    "Dx=(1000**2  *  0.5)  +  (1500**2 * 0.3)  +  (2000**2 * 0.2)  - Mx**2\n",
    "Dy=(1000**2  *  0.4)  +  (1500**2 * 0.4)  +  (1750**2 * 0.2)  - My**2\n",
    "print(f\"Дисперсія для X: {Dx}\")\n",
    "print(f\"Дисперсія для Y: {Dy}\")"
   ]
  },
  {
   "cell_type": "markdown",
   "id": "327c4f79",
   "metadata": {},
   "source": [
    "#### Знаходимо середньоквадратичне відхилення для X та Y\n",
    "$\\delta (X) = \\sqrt{D(X)}$"
   ]
  },
  {
   "cell_type": "code",
   "execution_count": 7,
   "id": "f6cbdc86",
   "metadata": {},
   "outputs": [
    {
     "name": "stdout",
     "output_type": "stream",
     "text": [
      "Cередньоквадратичне відхилення для X: 390.51\n",
      "Cередньоквадратичне відхилення для Y: 300.0\n"
     ]
    }
   ],
   "source": [
    "from math import sqrt\n",
    "SDx=sqrt(Dx)\n",
    "SDy=sqrt(Dy)\n",
    "print(f\"Cередньоквадратичне відхилення для X: {round(SDx,2)}\")\n",
    "print(f\"Cередньоквадратичне відхилення для Y: {SDy}\")"
   ]
  },
  {
   "cell_type": "markdown",
   "id": "fc016013",
   "metadata": {},
   "source": [
    "**Відповідь:** Математичне сподівання прибутку від обох товарів однакова. Оскільки середньоквадратичне відхилення для Y менше, то варіант Y більш привабливий."
   ]
  }
 ],
 "metadata": {
  "kernelspec": {
   "display_name": "Python 3 (ipykernel)",
   "language": "python",
   "name": "python3"
  },
  "language_info": {
   "codemirror_mode": {
    "name": "ipython",
    "version": 3
   },
   "file_extension": ".py",
   "mimetype": "text/x-python",
   "name": "python",
   "nbconvert_exporter": "python",
   "pygments_lexer": "ipython3",
   "version": "3.10.6"
  }
 },
 "nbformat": 4,
 "nbformat_minor": 5
}
