{
  "nbformat": 4,
  "nbformat_minor": 0,
  "metadata": {
    "colab": {
      "provenance": [],
      "authorship_tag": "ABX9TyNvOg4ImllW9yOHfvyB9D02",
      "include_colab_link": true
    },
    "kernelspec": {
      "name": "python3",
      "display_name": "Python 3"
    },
    "language_info": {
      "name": "python"
    },
    "accelerator": "GPU",
    "gpuClass": "standard"
  },
  "cells": [
    {
      "cell_type": "markdown",
      "metadata": {
        "id": "view-in-github",
        "colab_type": "text"
      },
      "source": [
        "<a href=\"https://colab.research.google.com/github/InGev007/startup_acd/blob/main/Lesson%2066/Lesson_66.ipynb\" target=\"_parent\"><img src=\"https://colab.research.google.com/assets/colab-badge.svg\" alt=\"Open In Colab\"/></a>"
      ]
    },
    {
      "cell_type": "markdown",
      "source": [
        "##Використовуючи тренувальний датасет з архіву data.zip та матеріалів з додаткових джерел, побудуйте систему детекції медичних масок на обличч"
      ],
      "metadata": {
        "id": "Lb-KiHmTSJGS"
      }
    },
    {
      "cell_type": "code",
      "source": [
        "import zipfile\n",
        "with zipfile.ZipFile('data.zip', 'r') as zip_ref:\n",
        "    zip_ref.extractall('/content/')"
      ],
      "metadata": {
        "id": "aAEagnXcYZs1"
      },
      "execution_count": 1,
      "outputs": []
    },
    {
      "cell_type": "code",
      "execution_count": 2,
      "metadata": {
        "colab": {
          "base_uri": "https://localhost:8080/"
        },
        "id": "nAujFqHARvXW",
        "outputId": "4541258f-7cec-4c8e-fe90-84ea3a3104de"
      },
      "outputs": [
        {
          "output_type": "stream",
          "name": "stdout",
          "text": [
            "Found 1376 images belonging to 2 classes.\n"
          ]
        }
      ],
      "source": [
        "import tensorflow as tf\n",
        "\n",
        "# підготовка даних\n",
        "train_datagen = tf.keras.preprocessing.image.ImageDataGenerator(rescale=1./255)\n",
        "\n",
        "train_generator = train_datagen.flow_from_directory(\n",
        "    'data',\n",
        "    target_size=(224, 224),\n",
        "    batch_size=32,\n",
        "    class_mode='binary')"
      ]
    },
    {
      "cell_type": "code",
      "source": [
        "# побудова моделі\n",
        "model = tf.keras.models.Sequential([\n",
        "    tf.keras.layers.Conv2D(32, (3,3), activation='relu', input_shape=(224, 224, 3)),\n",
        "    tf.keras.layers.MaxPooling2D(2, 2),\n",
        "    tf.keras.layers.Conv2D(64, (3,3), activation='relu'),\n",
        "    tf.keras.layers.MaxPooling2D(2,2),\n",
        "    tf.keras.layers.Conv2D(128, (3,3), activation='relu'),\n",
        "    tf.keras.layers.MaxPooling2D(2,2),\n",
        "    tf.keras.layers.Conv2D(128, (3,3), activation='relu'),\n",
        "    tf.keras.layers.MaxPooling2D(2,2),\n",
        "    tf.keras.layers.Flatten(),\n",
        "    tf.keras.layers.Dense(512, activation='relu'),\n",
        "    tf.keras.layers.Dense(1, activation='sigmoid')\n",
        "])\n",
        "\n",
        "model.compile(loss='binary_crossentropy',\n",
        "              optimizer=tf.optimizers.RMSprop(lr=1e-4),\n",
        "              metrics=['accuracy'])"
      ],
      "metadata": {
        "colab": {
          "base_uri": "https://localhost:8080/"
        },
        "id": "2KF_hoSUXx0Q",
        "outputId": "816c1da9-b70f-4dc0-9f39-7bc3d676d031"
      },
      "execution_count": 3,
      "outputs": [
        {
          "output_type": "stream",
          "name": "stderr",
          "text": [
            "WARNING:absl:`lr` is deprecated in Keras optimizer, please use `learning_rate` or use the legacy optimizer, e.g.,tf.keras.optimizers.legacy.RMSprop.\n"
          ]
        }
      ]
    },
    {
      "cell_type": "code",
      "source": [
        "# тренування моделі\n",
        "model.fit(\n",
        "    train_generator,\n",
        "    steps_per_epoch=train_generator.samples/train_generator.batch_size,\n",
        "    epochs=10,\n",
        "    verbose=1)"
      ],
      "metadata": {
        "colab": {
          "base_uri": "https://localhost:8080/"
        },
        "id": "Qwowwpe1X081",
        "outputId": "a7505455-d532-43fd-e6b9-f255db22d862"
      },
      "execution_count": 4,
      "outputs": [
        {
          "output_type": "stream",
          "name": "stdout",
          "text": [
            "Epoch 1/10\n",
            "43/43 [==============================] - 18s 136ms/step - loss: 0.8091 - accuracy: 0.6453\n",
            "Epoch 2/10\n",
            "43/43 [==============================] - 7s 160ms/step - loss: 0.2785 - accuracy: 0.9113\n",
            "Epoch 3/10\n",
            "43/43 [==============================] - 7s 159ms/step - loss: 0.1404 - accuracy: 0.9528\n",
            "Epoch 4/10\n",
            "43/43 [==============================] - 6s 137ms/step - loss: 0.2600 - accuracy: 0.9346\n",
            "Epoch 5/10\n",
            "43/43 [==============================] - 6s 147ms/step - loss: 0.1195 - accuracy: 0.9535\n",
            "Epoch 6/10\n",
            "43/43 [==============================] - 7s 152ms/step - loss: 0.0714 - accuracy: 0.9760\n",
            "Epoch 7/10\n",
            "43/43 [==============================] - 6s 136ms/step - loss: 0.0446 - accuracy: 0.9855\n",
            "Epoch 8/10\n",
            "43/43 [==============================] - 7s 161ms/step - loss: 0.0523 - accuracy: 0.9782\n",
            "Epoch 9/10\n",
            "43/43 [==============================] - 7s 163ms/step - loss: 0.0490 - accuracy: 0.9884\n",
            "Epoch 10/10\n",
            "43/43 [==============================] - 6s 138ms/step - loss: 0.0369 - accuracy: 0.9891\n"
          ]
        },
        {
          "output_type": "execute_result",
          "data": {
            "text/plain": [
              "<keras.callbacks.History at 0x7ffa282bc280>"
            ]
          },
          "metadata": {},
          "execution_count": 4
        }
      ]
    },
    {
      "cell_type": "code",
      "source": [
        "from keras.preprocessing import image\n",
        "from tensorflow.keras.preprocessing import image\n",
        "import numpy as np\n",
        "\n",
        "img_path = '/content/not.jpg'\n",
        "img = image.load_img(img_path,target_size=(224, 224))\n",
        "images = image.img_to_array(img)\n",
        "images = np.expand_dims(images,axis=0)\n",
        "prediction = model.predict(images)\n",
        "if prediction == 0:\n",
        "  print('Є маска')\n",
        "else:\n",
        "  print('Немає маски') "
      ],
      "metadata": {
        "colab": {
          "base_uri": "https://localhost:8080/"
        },
        "id": "j1amn7j2bfMn",
        "outputId": "58601ed2-8155-4ad3-d72f-7c36b7b1acd1"
      },
      "execution_count": 6,
      "outputs": [
        {
          "output_type": "stream",
          "name": "stdout",
          "text": [
            "1/1 [==============================] - 0s 358ms/step\n",
            "Немає маски\n"
          ]
        }
      ]
    },
    {
      "cell_type": "code",
      "source": [
        "img_path = '/content/man-with-medical-mask.jpg'\n",
        "img = image.load_img(img_path,target_size=(224, 224))\n",
        "images = image.img_to_array(img)\n",
        "images = np.expand_dims(images,axis=0)\n",
        "prediction = model.predict(images)\n",
        "if prediction == 0:\n",
        "  print('Є маска')\n",
        "else:\n",
        "  print('Немає маски') "
      ],
      "metadata": {
        "colab": {
          "base_uri": "https://localhost:8080/"
        },
        "id": "PiQJPFKReFZ7",
        "outputId": "aacd0079-cb5a-4950-d816-daf3687441cb"
      },
      "execution_count": 8,
      "outputs": [
        {
          "output_type": "stream",
          "name": "stdout",
          "text": [
            "1/1 [==============================] - 0s 20ms/step\n",
            "Є маска\n"
          ]
        }
      ]
    }
  ]
}