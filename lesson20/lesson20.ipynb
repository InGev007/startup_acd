{
 "cells": [
  {
   "cell_type": "markdown",
   "id": "a528df88",
   "metadata": {},
   "source": [
    "| Year | Rank | Revenue | Company |Profit |\n",
    "|:---  |:----:| :----:  | :----:  |---: |\n",
    "| 1955 | 229 | _Norton_ | __135__ |N.A. |\n",
    "| 1955 | 291 |_Schlitz Brewing_ | __100__ |N.A. |\n",
    "| 1955 | 295 |_Pacific Vegetable Oil_|__97.9__ |N.A. |\n",
    "| 1955 | 297 |_Liebmann Breweries_ | __96__ |N.A. |\n",
    "| 1955 | 350 |_Minneapolis-Moline_ | __77.4__ |N.A. |\n",
    "| 1955 | 297 |_Liebmann Breweries_ | __96__ |N.A. |"
   ]
  },
  {
   "cell_type": "code",
   "execution_count": 5,
   "id": "5023c2bf",
   "metadata": {},
   "outputs": [
    {
     "name": "stdout",
     "output_type": "stream",
     "text": [
      "Collecting RandomWords\n",
      "  Using cached RandomWords-0.4.0-py3-none-any.whl\n",
      "Installing collected packages: RandomWords\n",
      "Successfully installed RandomWords-0.4.0\n"
     ]
    },
    {
     "name": "stderr",
     "output_type": "stream",
     "text": [
      "\n",
      "[notice] A new release of pip available: 22.3 -> 23.0\n",
      "[notice] To update, run: python.exe -m pip install --upgrade pip\n"
     ]
    }
   ],
   "source": [
    "!pip install RandomWords"
   ]
  },
  {
   "cell_type": "code",
   "execution_count": 6,
   "id": "17481652",
   "metadata": {},
   "outputs": [],
   "source": [
    "from random_words import RandomWords\n",
    "\n",
    "\n",
    "str_list = []\n",
    "w = RandomWords()\n",
    "\n",
    "for i in range(0, 5000):\n",
    "    str_list.append(w.random_word())\n",
    "\n",
    "def bubble_sort(data):\n",
    "    length = len(data)\n",
    "    for iIndex in range(length):\n",
    "        swapped = False\n",
    "        for jIndex in range(0, length - iIndex - 1):\n",
    "            if data[jIndex] > data[jIndex + 1]:\n",
    "                data[jIndex], data[jIndex + 1] = data[jIndex + 1], data[jIndex]\n",
    "                swapped = True\n",
    "        if not swapped:\n",
    "            break\n",
    "    return data"
   ]
  },
  {
   "cell_type": "code",
   "execution_count": 7,
   "id": "aaf69b12",
   "metadata": {},
   "outputs": [
    {
     "name": "stdout",
     "output_type": "stream",
     "text": [
      "18.7 ms ± 1.43 ms per loop (mean ± std. dev. of 7 runs, 1 loop each)\n"
     ]
    }
   ],
   "source": [
    "%%timeit\n",
    "for i in range(0, 10):\n",
    "    bubble_sort(str_list)"
   ]
  }
 ],
 "metadata": {
  "kernelspec": {
   "display_name": "Python 3 (ipykernel)",
   "language": "python",
   "name": "python3"
  },
  "language_info": {
   "codemirror_mode": {
    "name": "ipython",
    "version": 3
   },
   "file_extension": ".py",
   "mimetype": "text/x-python",
   "name": "python",
   "nbconvert_exporter": "python",
   "pygments_lexer": "ipython3",
   "version": "3.10.6"
  }
 },
 "nbformat": 4,
 "nbformat_minor": 5
}
