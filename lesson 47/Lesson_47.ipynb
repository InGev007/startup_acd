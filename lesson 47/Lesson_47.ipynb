{
  "nbformat": 4,
  "nbformat_minor": 0,
  "metadata": {
    "colab": {
      "provenance": [],
      "mount_file_id": "1pbp72Jv9nwsD4dU1QVgn3iMjjj4L14lL",
      "authorship_tag": "ABX9TyMSFaZ5BK7fh9wMTHGMJL4/",
      "include_colab_link": true
    },
    "kernelspec": {
      "name": "python3",
      "display_name": "Python 3"
    },
    "language_info": {
      "name": "python"
    }
  },
  "cells": [
    {
      "cell_type": "markdown",
      "metadata": {
        "id": "view-in-github",
        "colab_type": "text"
      },
      "source": [
        "<a href=\"https://colab.research.google.com/github/InGev007/startup_acd/blob/main/lesson%2047/Lesson_47.ipynb\" target=\"_parent\"><img src=\"https://colab.research.google.com/assets/colab-badge.svg\" alt=\"Open In Colab\"/></a>"
      ]
    },
    {
      "cell_type": "markdown",
      "source": [
        "#Лекція 47"
      ],
      "metadata": {
        "id": "us7TKZhTDIxT"
      }
    },
    {
      "cell_type": "markdown",
      "source": [
        "##Завдання:"
      ],
      "metadata": {
        "id": "ifOBgeY4C9j9"
      }
    },
    {
      "cell_type": "markdown",
      "source": [
        "Протестуйте описані в лекції методи і моделі на датасеті AirPassenger, що міститься на GitHub в папці лекції та містить дані про коливання кількості пасажирів авіаліній із часом. Порівняйте метрики оцінки моделі для двох датасетів."
      ],
      "metadata": {
        "id": "DthgqsPYDlxJ"
      }
    },
    {
      "cell_type": "markdown",
      "source": [
        "##Рішення:"
      ],
      "metadata": {
        "id": "dQCjBMp7DZgV"
      }
    },
    {
      "cell_type": "markdown",
      "source": [
        "###Підключаємо бібліотеки"
      ],
      "metadata": {
        "id": "1Hwj8TpADrzq"
      }
    },
    {
      "cell_type": "code",
      "execution_count": 1,
      "metadata": {
        "id": "NoTJyG-fybUk"
      },
      "outputs": [],
      "source": [
        "import pandas as pd\n",
        "import numpy as np\n",
        "import matplotlib\n",
        "from matplotlib import pyplot\n",
        "\n",
        "from statsmodels.tsa.stattools import acf, pacf\n",
        "from statsmodels.graphics.tsaplots import plot_acf, plot_pacf\n",
        "import statsmodels.api as sa\n",
        "\n",
        "from sklearn.metrics import mean_absolute_error, mean_squared_error, mean_absolute_percentage_error\n",
        "\n",
        "import warnings\n",
        "warnings.filterwarnings(\"ignore\")"
      ]
    },
    {
      "cell_type": "markdown",
      "source": [
        "###Підгружаємо та аналізуємо данні"
      ],
      "metadata": {
        "id": "7TLPuOw0EOug"
      }
    },
    {
      "cell_type": "code",
      "source": [
        "series = pd.read_csv('/content/drive/MyDrive/Colab Notebooks/AirPassengers.csv')\n",
        "series.rename(columns={'#Passengers': 'passengers'}, inplace=True)\n",
        "series.head()"
      ],
      "metadata": {
        "colab": {
          "base_uri": "https://localhost:8080/",
          "height": 206
        },
        "id": "UMtHd7Xgyqah",
        "outputId": "cb6d507c-ac2f-47ae-b24e-832daf744736"
      },
      "execution_count": 2,
      "outputs": [
        {
          "output_type": "execute_result",
          "data": {
            "text/plain": [
              "     Month  passengers\n",
              "0  1949-01         112\n",
              "1  1949-02         118\n",
              "2  1949-03         132\n",
              "3  1949-04         129\n",
              "4  1949-05         121"
            ],
            "text/html": [
              "\n",
              "  <div id=\"df-d516aaec-f9fb-43f7-96c0-401ee28e42f7\">\n",
              "    <div class=\"colab-df-container\">\n",
              "      <div>\n",
              "<style scoped>\n",
              "    .dataframe tbody tr th:only-of-type {\n",
              "        vertical-align: middle;\n",
              "    }\n",
              "\n",
              "    .dataframe tbody tr th {\n",
              "        vertical-align: top;\n",
              "    }\n",
              "\n",
              "    .dataframe thead th {\n",
              "        text-align: right;\n",
              "    }\n",
              "</style>\n",
              "<table border=\"1\" class=\"dataframe\">\n",
              "  <thead>\n",
              "    <tr style=\"text-align: right;\">\n",
              "      <th></th>\n",
              "      <th>Month</th>\n",
              "      <th>passengers</th>\n",
              "    </tr>\n",
              "  </thead>\n",
              "  <tbody>\n",
              "    <tr>\n",
              "      <th>0</th>\n",
              "      <td>1949-01</td>\n",
              "      <td>112</td>\n",
              "    </tr>\n",
              "    <tr>\n",
              "      <th>1</th>\n",
              "      <td>1949-02</td>\n",
              "      <td>118</td>\n",
              "    </tr>\n",
              "    <tr>\n",
              "      <th>2</th>\n",
              "      <td>1949-03</td>\n",
              "      <td>132</td>\n",
              "    </tr>\n",
              "    <tr>\n",
              "      <th>3</th>\n",
              "      <td>1949-04</td>\n",
              "      <td>129</td>\n",
              "    </tr>\n",
              "    <tr>\n",
              "      <th>4</th>\n",
              "      <td>1949-05</td>\n",
              "      <td>121</td>\n",
              "    </tr>\n",
              "  </tbody>\n",
              "</table>\n",
              "</div>\n",
              "      <button class=\"colab-df-convert\" onclick=\"convertToInteractive('df-d516aaec-f9fb-43f7-96c0-401ee28e42f7')\"\n",
              "              title=\"Convert this dataframe to an interactive table.\"\n",
              "              style=\"display:none;\">\n",
              "        \n",
              "  <svg xmlns=\"http://www.w3.org/2000/svg\" height=\"24px\"viewBox=\"0 0 24 24\"\n",
              "       width=\"24px\">\n",
              "    <path d=\"M0 0h24v24H0V0z\" fill=\"none\"/>\n",
              "    <path d=\"M18.56 5.44l.94 2.06.94-2.06 2.06-.94-2.06-.94-.94-2.06-.94 2.06-2.06.94zm-11 1L8.5 8.5l.94-2.06 2.06-.94-2.06-.94L8.5 2.5l-.94 2.06-2.06.94zm10 10l.94 2.06.94-2.06 2.06-.94-2.06-.94-.94-2.06-.94 2.06-2.06.94z\"/><path d=\"M17.41 7.96l-1.37-1.37c-.4-.4-.92-.59-1.43-.59-.52 0-1.04.2-1.43.59L10.3 9.45l-7.72 7.72c-.78.78-.78 2.05 0 2.83L4 21.41c.39.39.9.59 1.41.59.51 0 1.02-.2 1.41-.59l7.78-7.78 2.81-2.81c.8-.78.8-2.07 0-2.86zM5.41 20L4 18.59l7.72-7.72 1.47 1.35L5.41 20z\"/>\n",
              "  </svg>\n",
              "      </button>\n",
              "      \n",
              "  <style>\n",
              "    .colab-df-container {\n",
              "      display:flex;\n",
              "      flex-wrap:wrap;\n",
              "      gap: 12px;\n",
              "    }\n",
              "\n",
              "    .colab-df-convert {\n",
              "      background-color: #E8F0FE;\n",
              "      border: none;\n",
              "      border-radius: 50%;\n",
              "      cursor: pointer;\n",
              "      display: none;\n",
              "      fill: #1967D2;\n",
              "      height: 32px;\n",
              "      padding: 0 0 0 0;\n",
              "      width: 32px;\n",
              "    }\n",
              "\n",
              "    .colab-df-convert:hover {\n",
              "      background-color: #E2EBFA;\n",
              "      box-shadow: 0px 1px 2px rgba(60, 64, 67, 0.3), 0px 1px 3px 1px rgba(60, 64, 67, 0.15);\n",
              "      fill: #174EA6;\n",
              "    }\n",
              "\n",
              "    [theme=dark] .colab-df-convert {\n",
              "      background-color: #3B4455;\n",
              "      fill: #D2E3FC;\n",
              "    }\n",
              "\n",
              "    [theme=dark] .colab-df-convert:hover {\n",
              "      background-color: #434B5C;\n",
              "      box-shadow: 0px 1px 3px 1px rgba(0, 0, 0, 0.15);\n",
              "      filter: drop-shadow(0px 1px 2px rgba(0, 0, 0, 0.3));\n",
              "      fill: #FFFFFF;\n",
              "    }\n",
              "  </style>\n",
              "\n",
              "      <script>\n",
              "        const buttonEl =\n",
              "          document.querySelector('#df-d516aaec-f9fb-43f7-96c0-401ee28e42f7 button.colab-df-convert');\n",
              "        buttonEl.style.display =\n",
              "          google.colab.kernel.accessAllowed ? 'block' : 'none';\n",
              "\n",
              "        async function convertToInteractive(key) {\n",
              "          const element = document.querySelector('#df-d516aaec-f9fb-43f7-96c0-401ee28e42f7');\n",
              "          const dataTable =\n",
              "            await google.colab.kernel.invokeFunction('convertToInteractive',\n",
              "                                                     [key], {});\n",
              "          if (!dataTable) return;\n",
              "\n",
              "          const docLinkHtml = 'Like what you see? Visit the ' +\n",
              "            '<a target=\"_blank\" href=https://colab.research.google.com/notebooks/data_table.ipynb>data table notebook</a>'\n",
              "            + ' to learn more about interactive tables.';\n",
              "          element.innerHTML = '';\n",
              "          dataTable['output_type'] = 'display_data';\n",
              "          await google.colab.output.renderOutput(dataTable, element);\n",
              "          const docLink = document.createElement('div');\n",
              "          docLink.innerHTML = docLinkHtml;\n",
              "          element.appendChild(docLink);\n",
              "        }\n",
              "      </script>\n",
              "    </div>\n",
              "  </div>\n",
              "  "
            ]
          },
          "metadata": {},
          "execution_count": 2
        }
      ]
    },
    {
      "cell_type": "code",
      "source": [
        "matplotlib.rcParams['figure.figsize'] = [10, 3]\n",
        "series.plot()\n",
        "pyplot.show()"
      ],
      "metadata": {
        "colab": {
          "base_uri": "https://localhost:8080/",
          "height": 211
        },
        "id": "oWJejqgCy2in",
        "outputId": "4ace2c61-84d8-4823-fe14-d53f98239196"
      },
      "execution_count": 3,
      "outputs": [
        {
          "output_type": "display_data",
          "data": {
            "text/plain": [
              "<Figure size 720x216 with 1 Axes>"
            ],
            "image/png": "[encoded data removed]"
          },
          "metadata": {
            "needs_background": "light"
          }
        }
      ]
    },
    {
      "cell_type": "code",
      "source": [
        "acf_value = acf(series.passengers)\n",
        "pacf_value = pacf(series.passengers, nlags = 3)"
      ],
      "metadata": {
        "id": "QFhSGc-zzFPr"
      },
      "execution_count": 4,
      "outputs": []
    },
    {
      "cell_type": "code",
      "source": [
        "matplotlib.rcParams['figure.figsize'] = [10, 3]\n",
        "plot_acf(series.passengers)\n",
        "pyplot.show()"
      ],
      "metadata": {
        "colab": {
          "base_uri": "https://localhost:8080/",
          "height": 227
        },
        "id": "BW2BeMNc2oct",
        "outputId": "47f2c0e2-707a-4ed1-833b-3b7f8d09952c"
      },
      "execution_count": 5,
      "outputs": [
        {
          "output_type": "display_data",
          "data": {
            "text/plain": [
              "<Figure size 720x216 with 1 Axes>"
            ],
            "image/png": "[encoded data removed]"
          },
          "metadata": {
            "needs_background": "light"
          }
        }
      ]
    },
    {
      "cell_type": "code",
      "source": [
        "plot_pacf(series.passengers, lags =3)\n",
        "pyplot.show()"
      ],
      "metadata": {
        "colab": {
          "base_uri": "https://localhost:8080/",
          "height": 227
        },
        "id": "NZ8x10Ox2yoK",
        "outputId": "474a9e61-28f8-4ff7-ee2c-ee97f42d181e"
      },
      "execution_count": 6,
      "outputs": [
        {
          "output_type": "display_data",
          "data": {
            "text/plain": [
              "<Figure size 720x216 with 1 Axes>"
            ],
            "image/png": "[encoded data removed]"
          },
          "metadata": {
            "needs_background": "light"
          }
        }
      ]
    },
    {
      "cell_type": "code",
      "source": [
        "print(series.passengers)"
      ],
      "metadata": {
        "colab": {
          "base_uri": "https://localhost:8080/"
        },
        "id": "iT_f9-YW3WdR",
        "outputId": "d9c2bb4e-9e43-4239-8457-d7aeecbcda07"
      },
      "execution_count": 7,
      "outputs": [
        {
          "output_type": "stream",
          "name": "stdout",
          "text": [
            "0      112\n",
            "1      118\n",
            "2      132\n",
            "3      129\n",
            "4      121\n",
            "      ... \n",
            "139    606\n",
            "140    508\n",
            "141    461\n",
            "142    390\n",
            "143    432\n",
            "Name: passengers, Length: 144, dtype: int64\n"
          ]
        }
      ]
    },
    {
      "cell_type": "markdown",
      "source": [
        "###Навчання моделі ARIMA"
      ],
      "metadata": {
        "id": "R2srukNdEZo5"
      }
    },
    {
      "cell_type": "code",
      "source": [
        "src_data_model = series.passengers[:110]\n",
        "model = sa.tsa.ARIMA(src_data_model).fit()"
      ],
      "metadata": {
        "id": "nkDbEFiJ3BCl"
      },
      "execution_count": 8,
      "outputs": []
    },
    {
      "cell_type": "code",
      "source": [
        "model.summary()"
      ],
      "metadata": {
        "colab": {
          "base_uri": "https://localhost:8080/",
          "height": 409
        },
        "id": "WJHp0haK3mX9",
        "outputId": "ac223fe9-0127-40b2-8090-ae1a063a0029"
      },
      "execution_count": 9,
      "outputs": [
        {
          "output_type": "execute_result",
          "data": {
            "text/plain": [
              "<class 'statsmodels.iolib.summary.Summary'>\n",
              "\"\"\"\n",
              "                               SARIMAX Results                                \n",
              "==============================================================================\n",
              "Dep. Variable:             passengers   No. Observations:                  110\n",
              "Model:                          ARIMA   Log Likelihood                -645.320\n",
              "Date:                Fri, 24 Mar 2023   AIC                           1294.641\n",
              "Time:                        19:30:21   BIC                           1300.041\n",
              "Sample:                             0   HQIC                          1296.831\n",
              "                                - 110                                         \n",
              "Covariance Type:                  opg                                         \n",
              "==============================================================================\n",
              "                 coef    std err          z      P>|z|      [0.025      0.975]\n",
              "------------------------------------------------------------------------------\n",
              "const        232.6818      9.214     25.253      0.000     214.623     250.741\n",
              "sigma2      7301.0128   1211.633      6.026      0.000    4926.256    9675.770\n",
              "===================================================================================\n",
              "Ljung-Box (L1) (Q):                 100.21   Jarque-Bera (JB):                 7.19\n",
              "Prob(Q):                              0.00   Prob(JB):                         0.03\n",
              "Heteroskedasticity (H):               1.55   Skew:                             0.61\n",
              "Prob(H) (two-sided):                  0.19   Kurtosis:                         2.69\n",
              "===================================================================================\n",
              "\n",
              "Warnings:\n",
              "[1] Covariance matrix calculated using the outer product of gradients (complex-step).\n",
              "\"\"\""
            ],
            "text/html": [
              "<table class=\"simpletable\">\n",
              "<caption>SARIMAX Results</caption>\n",
              "<tr>\n",
              "  <th>Dep. Variable:</th>      <td>passengers</td>    <th>  No. Observations:  </th>    <td>110</td>  \n",
              "</tr>\n",
              "<tr>\n",
              "  <th>Model:</th>                 <td>ARIMA</td>      <th>  Log Likelihood     </th> <td>-645.320</td>\n",
              "</tr>\n",
              "<tr>\n",
              "  <th>Date:</th>            <td>Fri, 24 Mar 2023</td> <th>  AIC                </th> <td>1294.641</td>\n",
              "</tr>\n",
              "<tr>\n",
              "  <th>Time:</th>                <td>19:30:21</td>     <th>  BIC                </th> <td>1300.041</td>\n",
              "</tr>\n",
              "<tr>\n",
              "  <th>Sample:</th>                  <td>0</td>        <th>  HQIC               </th> <td>1296.831</td>\n",
              "</tr>\n",
              "<tr>\n",
              "  <th></th>                      <td> - 110</td>      <th>                     </th>     <td> </td>   \n",
              "</tr>\n",
              "<tr>\n",
              "  <th>Covariance Type:</th>        <td>opg</td>       <th>                     </th>     <td> </td>   \n",
              "</tr>\n",
              "</table>\n",
              "<table class=\"simpletable\">\n",
              "<tr>\n",
              "     <td></td>       <th>coef</th>     <th>std err</th>      <th>z</th>      <th>P>|z|</th>  <th>[0.025</th>    <th>0.975]</th>  \n",
              "</tr>\n",
              "<tr>\n",
              "  <th>const</th>  <td>  232.6818</td> <td>    9.214</td> <td>   25.253</td> <td> 0.000</td> <td>  214.623</td> <td>  250.741</td>\n",
              "</tr>\n",
              "<tr>\n",
              "  <th>sigma2</th> <td> 7301.0128</td> <td> 1211.633</td> <td>    6.026</td> <td> 0.000</td> <td> 4926.256</td> <td> 9675.770</td>\n",
              "</tr>\n",
              "</table>\n",
              "<table class=\"simpletable\">\n",
              "<tr>\n",
              "  <th>Ljung-Box (L1) (Q):</th>     <td>100.21</td> <th>  Jarque-Bera (JB):  </th> <td>7.19</td>\n",
              "</tr>\n",
              "<tr>\n",
              "  <th>Prob(Q):</th>                 <td>0.00</td>  <th>  Prob(JB):          </th> <td>0.03</td>\n",
              "</tr>\n",
              "<tr>\n",
              "  <th>Heteroskedasticity (H):</th>  <td>1.55</td>  <th>  Skew:              </th> <td>0.61</td>\n",
              "</tr>\n",
              "<tr>\n",
              "  <th>Prob(H) (two-sided):</th>     <td>0.19</td>  <th>  Kurtosis:          </th> <td>2.69</td>\n",
              "</tr>\n",
              "</table><br/><br/>Warnings:<br/>[1] Covariance matrix calculated using the outer product of gradients (complex-step)."
            ]
          },
          "metadata": {},
          "execution_count": 9
        }
      ]
    },
    {
      "cell_type": "code",
      "source": [
        "pred = model.predict(110,143, typ='levels')\n",
        "len(pred)"
      ],
      "metadata": {
        "colab": {
          "base_uri": "https://localhost:8080/"
        },
        "id": "UyuzErcP3s5U",
        "outputId": "1675cc77-dc79-4675-e01f-44c1d1d023b7"
      },
      "execution_count": 10,
      "outputs": [
        {
          "output_type": "execute_result",
          "data": {
            "text/plain": [
              "34"
            ]
          },
          "metadata": {},
          "execution_count": 10
        }
      ]
    },
    {
      "cell_type": "code",
      "source": [
        "series.plot()\n",
        "pred.plot(style='r--')"
      ],
      "metadata": {
        "colab": {
          "base_uri": "https://localhost:8080/",
          "height": 228
        },
        "id": "0Vw7n4e630Sf",
        "outputId": "08237366-2184-4970-eb56-5f17a0de7d63"
      },
      "execution_count": 11,
      "outputs": [
        {
          "output_type": "execute_result",
          "data": {
            "text/plain": [
              "<Axes: >"
            ]
          },
          "metadata": {},
          "execution_count": 11
        },
        {
          "output_type": "display_data",
          "data": {
            "text/plain": [
              "<Figure size 720x216 with 1 Axes>"
            ],
            "image/png": "[encoded data removed]"
          },
          "metadata": {
            "needs_background": "light"
          }
        }
      ]
    },
    {
      "cell_type": "code",
      "source": [
        "comp = series.passengers[110:144]\n",
        "len(comp)"
      ],
      "metadata": {
        "colab": {
          "base_uri": "https://localhost:8080/"
        },
        "id": "WkIW-XWu4VAb",
        "outputId": "095fa040-d0de-4570-b397-9f966d02b4de"
      },
      "execution_count": 12,
      "outputs": [
        {
          "output_type": "execute_result",
          "data": {
            "text/plain": [
              "34"
            ]
          },
          "metadata": {},
          "execution_count": 12
        }
      ]
    },
    {
      "cell_type": "markdown",
      "source": [
        "####Тестування моделі ARIMA"
      ],
      "metadata": {
        "id": "ePuwtR5wFMHw"
      }
    },
    {
      "cell_type": "code",
      "source": [
        "mae_test_a1 = mean_absolute_error(comp, pred)\n",
        "rmse_test_a1 = np.sqrt(mean_squared_error(comp, pred))\n",
        "mape_test_a1 = mean_absolute_percentage_error(comp, pred)\n",
        "\n",
        "print(f'MAE test: {mae_test_a1: .2f}\\n'\n",
        "      f'RMSE test: {rmse_test_a1: .2f}\\n'\n",
        "      f'MAPE test:{mape_test_a1: .2f}')"
      ],
      "metadata": {
        "colab": {
          "base_uri": "https://localhost:8080/"
        },
        "id": "5G4-u8LN6adi",
        "outputId": "8780cfbf-1c01-4057-a9c8-22e27107739e"
      },
      "execution_count": 13,
      "outputs": [
        {
          "output_type": "stream",
          "name": "stdout",
          "text": [
            "MAE test:  201.67\n",
            "RMSE test:  215.70\n",
            "MAPE test: 0.45\n"
          ]
        }
      ]
    },
    {
      "cell_type": "markdown",
      "source": [
        "###Навчання моделі SARIMAX"
      ],
      "metadata": {
        "id": "cGgseT6VFWdf"
      }
    },
    {
      "cell_type": "code",
      "source": [
        "model = sa.tsa.statespace.SARIMAX(src_data_model, seasonal_order=(2,2,2,12)).fit()\n"
      ],
      "metadata": {
        "id": "9j3WVrRf-1HO"
      },
      "execution_count": 14,
      "outputs": []
    },
    {
      "cell_type": "code",
      "source": [
        "pred = model.predict(110,143, typ='levels')"
      ],
      "metadata": {
        "id": "CXEdpcjb_Tlh"
      },
      "execution_count": 15,
      "outputs": []
    },
    {
      "cell_type": "code",
      "source": [
        "series.plot()\n",
        "pred.plot(style='r--')"
      ],
      "metadata": {
        "colab": {
          "base_uri": "https://localhost:8080/",
          "height": 228
        },
        "id": "S11kzG6D_bqd",
        "outputId": "34d15e67-6550-4457-983c-390baf5d6063"
      },
      "execution_count": 16,
      "outputs": [
        {
          "output_type": "execute_result",
          "data": {
            "text/plain": [
              "<Axes: >"
            ]
          },
          "metadata": {},
          "execution_count": 16
        },
        {
          "output_type": "display_data",
          "data": {
            "text/plain": [
              "<Figure size 720x216 with 1 Axes>"
            ],
            "image/png": "[encoded data removed]"
          },
          "metadata": {
            "needs_background": "light"
          }
        }
      ]
    },
    {
      "cell_type": "markdown",
      "source": [
        "####Тестування моделі SARIMAX"
      ],
      "metadata": {
        "id": "iANEf1hsFeHw"
      }
    },
    {
      "cell_type": "code",
      "source": [
        "mae_test_a2 = mean_absolute_error(comp, pred)\n",
        "rmse_test_a2 = np.sqrt(mean_squared_error(comp, pred))\n",
        "mape_test_a2 = mean_absolute_percentage_error(comp, pred)\n",
        "\n",
        "print(f'MAE test: {mae_test_a2: .2f}\\n'\n",
        "      f'RMSE test: {rmse_test_a2: .2f}\\n'\n",
        "      f'MAPE test:{mape_test_a2: .2f}')"
      ],
      "metadata": {
        "colab": {
          "base_uri": "https://localhost:8080/"
        },
        "id": "4lo2t_FA_e04",
        "outputId": "0034e5a7-925c-4c11-c20c-c9677a1cdd09"
      },
      "execution_count": 17,
      "outputs": [
        {
          "output_type": "stream",
          "name": "stdout",
          "text": [
            "MAE test:  12.41\n",
            "RMSE test:  14.51\n",
            "MAPE test: 0.03\n"
          ]
        }
      ]
    },
    {
      "cell_type": "markdown",
      "source": [
        "##Висновки:"
      ],
      "metadata": {
        "id": "2wlKnfHtBUJf"
      }
    },
    {
      "cell_type": "markdown",
      "source": [
        "По результатах тестування моделей найкращі результати показала модель SARIMAX так як данні містять явно вираженний тренд та сезонність"
      ],
      "metadata": {
        "id": "suXXJYn3Fto4"
      }
    }
  ]
}