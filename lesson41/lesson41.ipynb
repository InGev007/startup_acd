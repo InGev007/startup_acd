{
  "cells": [
    {
      "cell_type": "markdown",
      "metadata": {
        "id": "view-in-github",
        "colab_type": "text"
      },
      "source": [
        "<a href=\"https://colab.research.google.com/github/InGev007/startup_acd/blob/main/lesson41/lesson41.ipynb\" target=\"_parent\"><img src=\"https://colab.research.google.com/assets/colab-badge.svg\" alt=\"Open In Colab\"/></a>"
      ]
    },
    {
      "cell_type": "code",
      "execution_count": 1,
      "id": "033df92c",
      "metadata": {
        "id": "033df92c"
      },
      "outputs": [],
      "source": [
        "from sklearn import datasets\n",
        "import matplotlib.pyplot as plt"
      ]
    },
    {
      "cell_type": "code",
      "execution_count": 2,
      "id": "07f7944c",
      "metadata": {
        "id": "07f7944c"
      },
      "outputs": [],
      "source": [
        "from sklearn.cluster import KMeans"
      ]
    },
    {
      "cell_type": "code",
      "execution_count": 3,
      "id": "26bca251",
      "metadata": {
        "id": "26bca251"
      },
      "outputs": [],
      "source": [
        "df = datasets.load_wine()"
      ]
    },
    {
      "cell_type": "code",
      "execution_count": 4,
      "id": "0e344e40",
      "metadata": {
        "id": "0e344e40"
      },
      "outputs": [],
      "source": [
        "model = KMeans(n_clusters=3)"
      ]
    },
    {
      "cell_type": "code",
      "execution_count": 5,
      "id": "a93b4253",
      "metadata": {
        "colab": {
          "base_uri": "https://localhost:8080/"
        },
        "id": "a93b4253",
        "outputId": "bb2c7d12-ecf2-4f66-a911-66461ef1d3c1"
      },
      "outputs": [
        {
          "output_type": "execute_result",
          "data": {
            "text/plain": [
              "KMeans(n_clusters=3)"
            ]
          },
          "metadata": {},
          "execution_count": 5
        }
      ],
      "source": [
        "model.fit(df.data)"
      ]
    },
    {
      "cell_type": "code",
      "execution_count": 6,
      "id": "8cacef32",
      "metadata": {
        "id": "8cacef32"
      },
      "outputs": [],
      "source": [
        "predictions = model.predict(df.data)"
      ]
    },
    {
      "cell_type": "code",
      "execution_count": 7,
      "id": "d0b298c6",
      "metadata": {
        "colab": {
          "base_uri": "https://localhost:8080/"
        },
        "id": "d0b298c6",
        "outputId": "3a7efffc-9f8d-4257-c779-967ae79513f1"
      },
      "outputs": [
        {
          "output_type": "execute_result",
          "data": {
            "text/plain": [
              "array([0, 0, 0, 0, 2, 0, 0, 0, 0, 0, 0, 0, 0, 0, 0, 0, 0, 0, 0, 2, 2, 2,\n",
              "       0, 0, 2, 2, 0, 0, 2, 0, 0, 0, 0, 0, 0, 2, 2, 0, 0, 2, 2, 0, 0, 2,\n",
              "       2, 0, 0, 0, 0, 0, 0, 0, 0, 0, 0, 0, 0, 0, 0, 1, 2, 1, 2, 1, 1, 2,\n",
              "       1, 1, 2, 2, 2, 1, 1, 0, 2, 1, 1, 1, 2, 1, 1, 2, 2, 1, 1, 1, 1, 1,\n",
              "       2, 2, 1, 1, 1, 1, 1, 2, 2, 1, 2, 1, 2, 1, 1, 1, 2, 1, 1, 1, 1, 2,\n",
              "       1, 1, 2, 1, 1, 1, 1, 1, 1, 1, 2, 1, 1, 1, 1, 1, 1, 1, 1, 1, 2, 1,\n",
              "       1, 2, 2, 2, 2, 1, 1, 1, 2, 2, 1, 1, 2, 2, 1, 2, 2, 1, 1, 1, 1, 2,\n",
              "       2, 2, 1, 2, 2, 2, 1, 2, 1, 2, 2, 1, 2, 2, 2, 2, 1, 1, 2, 2, 2, 2,\n",
              "       2, 1], dtype=int32)"
            ]
          },
          "metadata": {},
          "execution_count": 7
        }
      ],
      "source": [
        "predictions"
      ]
    },
    {
      "cell_type": "code",
      "execution_count": 9,
      "id": "f6100ae6",
      "metadata": {
        "id": "f6100ae6"
      },
      "outputs": [],
      "source": [
        "cluster_0 = df.data[predictions == 0]\n",
        "cluster_1 = df.data[predictions == 1]\n",
        "cluster_2 = df.data[predictions == 2]"
      ]
    },
    {
      "cell_type": "code",
      "execution_count": 10,
      "id": "103cdad8",
      "metadata": {
        "colab": {
          "base_uri": "https://localhost:8080/",
          "height": 284
        },
        "id": "103cdad8",
        "outputId": "8217614b-03a3-4955-ddd6-fb4ac3f8ac3b"
      },
      "outputs": [
        {
          "output_type": "execute_result",
          "data": {
            "text/plain": [
              "<matplotlib.collections.PathCollection at 0x7f882558bfd0>"
            ]
          },
          "metadata": {},
          "execution_count": 10
        },
        {
          "output_type": "display_data",
          "data": {
            "text/plain": [
              "<Figure size 432x288 with 1 Axes>"
            ],
            "image/png": "[encoded data removed]"
          },
          "metadata": {
            "needs_background": "light"
          }
        }
      ],
      "source": [
        "plt.scatter(cluster_0[:,0] , cluster_0[:,1] , color = 'red')\n",
        "plt.scatter(cluster_1[:,0] , cluster_1[:,1] , color = 'black')\n",
        "plt.scatter(cluster_2[:,0] , cluster_2[:,1] , color = 'yellow')"
      ]
    },
    {
      "cell_type": "code",
      "execution_count": 12,
      "id": "96a1fa85",
      "metadata": {
        "id": "96a1fa85"
      },
      "outputs": [],
      "source": [
        "from sklearn.cluster import DBSCAN\n",
        "from sklearn.decomposition import PCA"
      ]
    },
    {
      "cell_type": "code",
      "execution_count": 28,
      "id": "a9f296dc",
      "metadata": {
        "id": "a9f296dc"
      },
      "outputs": [],
      "source": [
        "dbscan = DBSCAN(eps=50, min_samples=4)"
      ]
    },
    {
      "cell_type": "code",
      "execution_count": 30,
      "id": "6a7d38be",
      "metadata": {
        "colab": {
          "base_uri": "https://localhost:8080/"
        },
        "id": "6a7d38be",
        "outputId": "6e2591c0-1652-48d0-a278-5d2ae87432f9"
      },
      "outputs": [
        {
          "output_type": "execute_result",
          "data": {
            "text/plain": [
              "DBSCAN(eps=50, min_samples=4)"
            ]
          },
          "metadata": {},
          "execution_count": 30
        }
      ],
      "source": [
        "dbscan.fit(df.data)"
      ]
    },
    {
      "cell_type": "code",
      "execution_count": 31,
      "id": "7ccfc458",
      "metadata": {
        "id": "7ccfc458"
      },
      "outputs": [],
      "source": [
        "pca = PCA(n_components=2).fit(df.data)\n",
        "pca_2d = pca.transform(df.data)"
      ]
    },
    {
      "cell_type": "code",
      "execution_count": 32,
      "id": "cdbea4ba",
      "metadata": {
        "colab": {
          "base_uri": "https://localhost:8080/",
          "height": 265
        },
        "id": "cdbea4ba",
        "outputId": "3ab03a1c-baaf-4c73-b8e4-b142305ad773"
      },
      "outputs": [
        {
          "output_type": "display_data",
          "data": {
            "text/plain": [
              "<Figure size 432x288 with 1 Axes>"
            ],
            "image/png": "[encoded data removed]"
          },
          "metadata": {
            "needs_background": "light"
          }
        }
      ],
      "source": [
        "for i in range(0, pca_2d.shape[0]):\n",
        "    if dbscan.labels_[i] == 0:\n",
        "        c1 = plt.scatter(pca_2d[i, 0], pca_2d[i, 1], c='r', marker='+')\n",
        "    elif dbscan.labels_[i] == 1:\n",
        "        c2 = plt.scatter(pca_2d[i, 0], pca_2d[i, 1], c='g', marker='o')\n",
        "    elif dbscan.labels_[i] == 2:\n",
        "        c3 = plt.scatter(pca_2d[i, 0], pca_2d[i, 1], c='b', marker='*')\n",
        "    elif dbscan.labels_[i] == -1:\n",
        "        c3 = plt.scatter(pca_2d[i, 0], pca_2d[i, 1], c='y', marker='d')"
      ]
    },
    {
      "cell_type": "code",
      "execution_count": 17,
      "id": "297321c7",
      "metadata": {
        "id": "297321c7"
      },
      "outputs": [],
      "source": [
        "from scipy.cluster.hierarchy import linkage, dendrogram"
      ]
    },
    {
      "cell_type": "code",
      "execution_count": 18,
      "id": "99f36e96",
      "metadata": {
        "id": "99f36e96"
      },
      "outputs": [],
      "source": [
        "mergings = linkage(df.data, method = 'complete')"
      ]
    },
    {
      "cell_type": "code",
      "execution_count": 19,
      "id": "1f8bb31c",
      "metadata": {
        "colab": {
          "base_uri": "https://localhost:8080/",
          "height": 265
        },
        "id": "1f8bb31c",
        "outputId": "1ae5f478-f70a-4a46-d72a-7eec79d32fd0"
      },
      "outputs": [
        {
          "output_type": "display_data",
          "data": {
            "text/plain": [
              "<Figure size 432x288 with 1 Axes>"
            ],
            "image/png": "[encoded data removed]"
          },
          "metadata": {
            "needs_background": "light"
          }
        }
      ],
      "source": [
        "clusters = dendrogram(mergings,leaf_rotation=90)"
      ]
    }
  ],
  "metadata": {
    "kernelspec": {
      "display_name": "Python 3 (ipykernel)",
      "language": "python",
      "name": "python3"
    },
    "language_info": {
      "codemirror_mode": {
        "name": "ipython",
        "version": 3
      },
      "file_extension": ".py",
      "mimetype": "text/x-python",
      "name": "python",
      "nbconvert_exporter": "python",
      "pygments_lexer": "ipython3",
      "version": "3.10.7"
    },
    "colab": {
      "provenance": [],
      "include_colab_link": true
    }
  },
  "nbformat": 4,
  "nbformat_minor": 5
}