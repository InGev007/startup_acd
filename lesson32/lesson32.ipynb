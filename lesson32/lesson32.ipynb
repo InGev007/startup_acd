{
 "cells": [
  {
   "cell_type": "markdown",
   "id": "547f6ce1",
   "metadata": {},
   "source": [
    "Створіть датафрейм розміром 15*5, що містить наступні дані: а) ім'я та прізвище студента; б) середній бал в) оцінка за поточний екзамен г) кількість спроб здачі поточного екзамену"
   ]
  },
  {
   "cell_type": "code",
   "execution_count": 1,
   "id": "f3a9bf9e",
   "metadata": {},
   "outputs": [
    {
     "data": {
      "text/html": [
       "<div>\n",
       "<style scoped>\n",
       "    .dataframe tbody tr th:only-of-type {\n",
       "        vertical-align: middle;\n",
       "    }\n",
       "\n",
       "    .dataframe tbody tr th {\n",
       "        vertical-align: top;\n",
       "    }\n",
       "\n",
       "    .dataframe thead th {\n",
       "        text-align: right;\n",
       "    }\n",
       "</style>\n",
       "<table border=\"1\" class=\"dataframe\">\n",
       "  <thead>\n",
       "    <tr style=\"text-align: right;\">\n",
       "      <th></th>\n",
       "      <th>Ім'я</th>\n",
       "      <th>Прізвище</th>\n",
       "      <th>Середній бал</th>\n",
       "      <th>Оцінка за поточний екзамен</th>\n",
       "      <th>Кількість спроб здачі поточного екзамену</th>\n",
       "    </tr>\n",
       "  </thead>\n",
       "  <tbody>\n",
       "    <tr>\n",
       "      <th>0</th>\n",
       "      <td>Олексій</td>\n",
       "      <td>Ковальчук</td>\n",
       "      <td>4.2</td>\n",
       "      <td>5</td>\n",
       "      <td>1</td>\n",
       "    </tr>\n",
       "    <tr>\n",
       "      <th>1</th>\n",
       "      <td>Олена</td>\n",
       "      <td>Семенчук</td>\n",
       "      <td>3.5</td>\n",
       "      <td>4</td>\n",
       "      <td>2</td>\n",
       "    </tr>\n",
       "    <tr>\n",
       "      <th>2</th>\n",
       "      <td>Андрій</td>\n",
       "      <td>Бойчук</td>\n",
       "      <td>4.8</td>\n",
       "      <td>3</td>\n",
       "      <td>3</td>\n",
       "    </tr>\n",
       "    <tr>\n",
       "      <th>3</th>\n",
       "      <td>Ірина</td>\n",
       "      <td>Ковальова</td>\n",
       "      <td>4.1</td>\n",
       "      <td>4</td>\n",
       "      <td>1</td>\n",
       "    </tr>\n",
       "    <tr>\n",
       "      <th>4</th>\n",
       "      <td>Юлія</td>\n",
       "      <td>Жук</td>\n",
       "      <td>4.9</td>\n",
       "      <td>5</td>\n",
       "      <td>1</td>\n",
       "    </tr>\n",
       "  </tbody>\n",
       "</table>\n",
       "</div>"
      ],
      "text/plain": [
       "      Ім'я   Прізвище  Середній бал  Оцінка за поточний екзамен  \\\n",
       "0  Олексій  Ковальчук           4.2                           5   \n",
       "1    Олена   Семенчук           3.5                           4   \n",
       "2   Андрій     Бойчук           4.8                           3   \n",
       "3    Ірина  Ковальова           4.1                           4   \n",
       "4     Юлія        Жук           4.9                           5   \n",
       "\n",
       "   Кількість спроб здачі поточного екзамену  \n",
       "0                                         1  \n",
       "1                                         2  \n",
       "2                                         3  \n",
       "3                                         1  \n",
       "4                                         1  "
      ]
     },
     "execution_count": 1,
     "metadata": {},
     "output_type": "execute_result"
    }
   ],
   "source": [
    "import pandas as pd\n",
    "\n",
    "data = {\n",
    "    'Ім\\'я': ['Олексій', 'Олена', 'Андрій', 'Ірина', 'Юлія', \n",
    "             'Василь', 'Марія', 'Дмитро', 'Софія', 'Віктор', \n",
    "             'Наталія', 'Ігор', 'Катерина', 'Павло', 'Анна'],\n",
    "    'Прізвище': ['Ковальчук', 'Семенчук', 'Бойчук', 'Ковальова', \n",
    "                 'Жук', 'Петренко', 'Ткаченко', 'Литвиненко', \n",
    "                 'Кравченко', 'Коваленко', 'Іваненко', 'Кравчук', \n",
    "                 'Бондаренко', 'Лисенко', 'Шевченко'],\n",
    "    'Середній бал': [4.2, 3.5, 4.8, 4.1, 4.9, \n",
    "                      3.9, 4.6, 4.4, 4.0, 4.7, \n",
    "                      4.3, 4.5, 3.8, 4.7, 4.2],\n",
    "    'Оцінка за поточний екзамен': [5, 4, 3, 4, 5, \n",
    "                                    4, 5, 5, 4, 5, \n",
    "                                    4, 5, 3, 5, 4],\n",
    "    'Кількість спроб здачі поточного екзамену': [1, 2, 3, 1, 1, \n",
    "                                                  2, 1, 1, 2, 1, \n",
    "                                                  3, 1, 1, 1, 2]\n",
    "}\n",
    "\n",
    "df = pd.DataFrame(data)\n",
    "df.head()"
   ]
  },
  {
   "cell_type": "markdown",
   "id": "e4c3eff3",
   "metadata": {},
   "source": [
    "Додайте до датафрейму стовпчик, що містить дані про допуск студента на наступний курс:"
   ]
  },
  {
   "cell_type": "code",
   "execution_count": 2,
   "id": "6db07bbf",
   "metadata": {
    "scrolled": true
   },
   "outputs": [
    {
     "data": {
      "text/html": [
       "<div>\n",
       "<style scoped>\n",
       "    .dataframe tbody tr th:only-of-type {\n",
       "        vertical-align: middle;\n",
       "    }\n",
       "\n",
       "    .dataframe tbody tr th {\n",
       "        vertical-align: top;\n",
       "    }\n",
       "\n",
       "    .dataframe thead th {\n",
       "        text-align: right;\n",
       "    }\n",
       "</style>\n",
       "<table border=\"1\" class=\"dataframe\">\n",
       "  <thead>\n",
       "    <tr style=\"text-align: right;\">\n",
       "      <th></th>\n",
       "      <th>Ім'я</th>\n",
       "      <th>Прізвище</th>\n",
       "      <th>Середній бал</th>\n",
       "      <th>Оцінка за поточний екзамен</th>\n",
       "      <th>Кількість спроб здачі поточного екзамену</th>\n",
       "      <th>Допуск</th>\n",
       "    </tr>\n",
       "  </thead>\n",
       "  <tbody>\n",
       "    <tr>\n",
       "      <th>0</th>\n",
       "      <td>Олексій</td>\n",
       "      <td>Ковальчук</td>\n",
       "      <td>4.2</td>\n",
       "      <td>5</td>\n",
       "      <td>1</td>\n",
       "      <td>True</td>\n",
       "    </tr>\n",
       "    <tr>\n",
       "      <th>1</th>\n",
       "      <td>Олена</td>\n",
       "      <td>Семенчук</td>\n",
       "      <td>3.5</td>\n",
       "      <td>4</td>\n",
       "      <td>2</td>\n",
       "      <td>False</td>\n",
       "    </tr>\n",
       "    <tr>\n",
       "      <th>2</th>\n",
       "      <td>Андрій</td>\n",
       "      <td>Бойчук</td>\n",
       "      <td>4.8</td>\n",
       "      <td>3</td>\n",
       "      <td>3</td>\n",
       "      <td>True</td>\n",
       "    </tr>\n",
       "    <tr>\n",
       "      <th>3</th>\n",
       "      <td>Ірина</td>\n",
       "      <td>Ковальова</td>\n",
       "      <td>4.1</td>\n",
       "      <td>4</td>\n",
       "      <td>1</td>\n",
       "      <td>True</td>\n",
       "    </tr>\n",
       "    <tr>\n",
       "      <th>4</th>\n",
       "      <td>Юлія</td>\n",
       "      <td>Жук</td>\n",
       "      <td>4.9</td>\n",
       "      <td>5</td>\n",
       "      <td>1</td>\n",
       "      <td>True</td>\n",
       "    </tr>\n",
       "  </tbody>\n",
       "</table>\n",
       "</div>"
      ],
      "text/plain": [
       "      Ім'я   Прізвище  Середній бал  Оцінка за поточний екзамен  \\\n",
       "0  Олексій  Ковальчук           4.2                           5   \n",
       "1    Олена   Семенчук           3.5                           4   \n",
       "2   Андрій     Бойчук           4.8                           3   \n",
       "3    Ірина  Ковальова           4.1                           4   \n",
       "4     Юлія        Жук           4.9                           5   \n",
       "\n",
       "   Кількість спроб здачі поточного екзамену  Допуск  \n",
       "0                                         1    True  \n",
       "1                                         2   False  \n",
       "2                                         3    True  \n",
       "3                                         1    True  \n",
       "4                                         1    True  "
      ]
     },
     "execution_count": 2,
     "metadata": {},
     "output_type": "execute_result"
    }
   ],
   "source": [
    "df['Допуск'] = df['Середній бал'] >= 4\n",
    "df.head()"
   ]
  },
  {
   "cell_type": "markdown",
   "id": "5417abc4",
   "metadata": {},
   "source": [
    "Виведіть мінімальний, максимальний, середній та медіанний показники середнього балу студентів:"
   ]
  },
  {
   "cell_type": "code",
   "execution_count": 3,
   "id": "bae7c8f3",
   "metadata": {},
   "outputs": [
    {
     "data": {
      "text/plain": [
       "min       3.500000\n",
       "max       4.900000\n",
       "mean      4.306667\n",
       "median    4.300000\n",
       "Name: Середній бал, dtype: float64"
      ]
     },
     "execution_count": 3,
     "metadata": {},
     "output_type": "execute_result"
    }
   ],
   "source": [
    "df['Середній бал'].agg(['min', 'max', 'mean', 'median'])"
   ]
  },
  {
   "cell_type": "markdown",
   "id": "1dc0d2d2",
   "metadata": {},
   "source": [
    "Виведіть кількість студентів, що склали поточний екзамен з першого разу:"
   ]
  },
  {
   "cell_type": "code",
   "execution_count": 4,
   "id": "3400e7b0",
   "metadata": {},
   "outputs": [
    {
     "data": {
      "text/plain": [
       "9"
      ]
     },
     "execution_count": 4,
     "metadata": {},
     "output_type": "execute_result"
    }
   ],
   "source": [
    "len(df[df['Кількість спроб здачі поточного екзамену'] == 1])"
   ]
  },
  {
   "cell_type": "markdown",
   "id": "5911c514",
   "metadata": {},
   "source": [
    "Збережіть будь-які дані з датафрейму у вигляді серії."
   ]
  },
  {
   "cell_type": "code",
   "execution_count": 5,
   "id": "4e3544b2",
   "metadata": {},
   "outputs": [
    {
     "data": {
      "text/plain": [
       "pandas.core.series.Series"
      ]
     },
     "execution_count": 5,
     "metadata": {},
     "output_type": "execute_result"
    }
   ],
   "source": [
    "series=df['Прізвище']\n",
    "type(series)"
   ]
  }
 ],
 "metadata": {
  "kernelspec": {
   "display_name": "Python 3 (ipykernel)",
   "language": "python",
   "name": "python3"
  },
  "language_info": {
   "codemirror_mode": {
    "name": "ipython",
    "version": 3
   },
   "file_extension": ".py",
   "mimetype": "text/x-python",
   "name": "python",
   "nbconvert_exporter": "python",
   "pygments_lexer": "ipython3",
   "version": "3.10.6"
  }
 },
 "nbformat": 4,
 "nbformat_minor": 5
}
