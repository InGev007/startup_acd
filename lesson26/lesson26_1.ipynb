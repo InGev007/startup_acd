{
 "cells": [
  {
   "cell_type": "markdown",
   "id": "299031b5",
   "metadata": {},
   "source": [
    "## Завдання 1:"
   ]
  },
  {
   "cell_type": "markdown",
   "id": "f0b2af7b",
   "metadata": {},
   "source": [
    "Ймовірність того, що телевізор витримає гарантійний термін роботи = 0,9 \n",
    "Кількість телевізорів 100 \n",
    "Оцінити ймовірність того, що число телевізорів, які витримають гарантійний термін роботи, буде від 85 до 95"
   ]
  },
  {
   "cell_type": "markdown",
   "id": "86d3fbba",
   "metadata": {},
   "source": [
    "## Вирішення:"
   ]
  },
  {
   "cell_type": "markdown",
   "id": "ce8e3855",
   "metadata": {},
   "source": [
    "#### Обчислюємо математичне сподівання\n",
    "$M[X] = n * P$"
   ]
  },
  {
   "cell_type": "code",
   "execution_count": 1,
   "id": "5d32b497",
   "metadata": {},
   "outputs": [
    {
     "name": "stdout",
     "output_type": "stream",
     "text": [
      "Математичне сподівання: 90.0\n"
     ]
    }
   ],
   "source": [
    "Mx=100*0.9\n",
    "print(f\"Математичне сподівання: {round(Mx,2)}\")"
   ]
  },
  {
   "cell_type": "markdown",
   "id": "c509b110",
   "metadata": {},
   "source": [
    "#### Знаходимо дисперсію\n",
    "$D(X) =  n * P * q$"
   ]
  },
  {
   "cell_type": "code",
   "execution_count": 3,
   "id": "4c573d0a",
   "metadata": {
    "scrolled": true
   },
   "outputs": [
    {
     "name": "stdout",
     "output_type": "stream",
     "text": [
      "Дисперсія: 9.0\n"
     ]
    }
   ],
   "source": [
    "Dx=100 * 0.9  * (1-0.9)\n",
    "print(f\"Дисперсія: {round(Dx,2)}\")"
   ]
  },
  {
   "cell_type": "markdown",
   "id": "327c4f79",
   "metadata": {},
   "source": [
    "#### Використовуємо нерівність Чебишева \n",
    "$ P(|X - M(X)| \\leq \\varepsilon)\\geq 1 - \\frac {D(X)}  {\\varepsilon ^ 2}$\n",
    "\n",
    "$ \\varepsilon = 95-90 = |85 - 90| = 5$"
   ]
  },
  {
   "cell_type": "code",
   "execution_count": 4,
   "id": "f6cbdc86",
   "metadata": {},
   "outputs": [
    {
     "name": "stdout",
     "output_type": "stream",
     "text": [
      "Число телевізорів, які витримають гарантійний термін роботи в межах [85:95]: 0.64\n"
     ]
    }
   ],
   "source": [
    "Px=1-(Dx/5**2)\n",
    "print(f\"Число телевізорів, які витримають гарантійний термін роботи в межах [85:95]: {round(Px,2)}\")"
   ]
  }
 ],
 "metadata": {
  "kernelspec": {
   "display_name": "Python 3 (ipykernel)",
   "language": "python",
   "name": "python3"
  },
  "language_info": {
   "codemirror_mode": {
    "name": "ipython",
    "version": 3
   },
   "file_extension": ".py",
   "mimetype": "text/x-python",
   "name": "python",
   "nbconvert_exporter": "python",
   "pygments_lexer": "ipython3",
   "version": "3.10.6"
  }
 },
 "nbformat": 4,
 "nbformat_minor": 5
}
