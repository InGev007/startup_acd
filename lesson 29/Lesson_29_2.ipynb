{
  "nbformat": 4,
  "nbformat_minor": 0,
  "metadata": {
    "colab": {
      "provenance": [],
      "authorship_tag": "ABX9TyNEeNPwj9vuhZnHmACKI7PA",
      "include_colab_link": true
    },
    "kernelspec": {
      "name": "python3",
      "display_name": "Python 3"
    },
    "language_info": {
      "name": "python"
    }
  },
  "cells": [
    {
      "cell_type": "markdown",
      "metadata": {
        "id": "view-in-github",
        "colab_type": "text"
      },
      "source": [
        "<a href=\"https://colab.research.google.com/github/InGev007/startup_acd/blob/main/lesson%2029/Lesson_29_2.ipynb\" target=\"_parent\"><img src=\"https://colab.research.google.com/assets/colab-badge.svg\" alt=\"Open In Colab\"/></a>"
      ]
    },
    {
      "cell_type": "markdown",
      "source": [
        "#Lesson 29_2"
      ],
      "metadata": {
        "id": "Lu5u8tQBCsEK"
      }
    },
    {
      "cell_type": "markdown",
      "source": [
        "##Завдання:"
      ],
      "metadata": {
        "id": "CFukNTjdCvFO"
      }
    },
    {
      "cell_type": "markdown",
      "source": [
        "###Випадкова величина Х розподілена рівномірно. Знайти щільність її розподілу, якщо P(X >= 3) = 0,4, а математичне сподівання M(X) = 2"
      ],
      "metadata": {
        "id": "8L7OEOaMCqGe"
      }
    },
    {
      "cell_type": "markdown",
      "source": [
        "##Рішення:"
      ],
      "metadata": {
        "id": "z1cdKztQEga1"
      }
    },
    {
      "cell_type": "markdown",
      "source": [
        "### Щільність розподілу:"
      ],
      "metadata": {
        "id": "kenmnvKSEipy"
      }
    },
    {
      "cell_type": "markdown",
      "source": [
        "\\begin{equation*}\n",
        "f(x) = \n",
        " \\begin{cases}\n",
        "   0, &\\text{$x \\leq a$}\\\\\n",
        "   \\frac {1}{b-a}, &\\text{$ a < x \\leq b $}\\\\\n",
        "   0, &\\text{$x > b$}\n",
        " \\end{cases}\n",
        "\\end{equation*}"
      ],
      "metadata": {
        "id": "3bZIJUXlFMsv"
      }
    },
    {
      "cell_type": "markdown",
      "source": [
        "###Розраховуємо математичне сподівання та дисперсію:"
      ],
      "metadata": {
        "id": "pMLxRfPkFave"
      }
    },
    {
      "cell_type": "markdown",
      "source": [
        "\\begin{equation*}\n",
        "M(X) = \\frac {a+b}{2}\n",
        "\\end{equation*}"
      ],
      "metadata": {
        "id": "sZuoZ5ACFqmT"
      }
    },
    {
      "cell_type": "markdown",
      "source": [
        "\\begin{equation*}\n",
        "D(X) = \\frac {(b-a)^2}{12}\n",
        "\\end{equation*}"
      ],
      "metadata": {
        "id": "8I5YyvoGF6Sv"
      }
    },
    {
      "cell_type": "markdown",
      "source": [
        "###Ймовірність потрапляння випадкової рівномірної величини у інтервал (с,d):"
      ],
      "metadata": {
        "id": "uBbEUgJVIKwB"
      }
    },
    {
      "cell_type": "markdown",
      "source": [
        "\\begin{equation*}\n",
        "P(c < X < d) = \\int_c^d \\frac {1}{b-a} \\cdot dx = \\frac {d-c}{b-a}\n",
        "\\end{equation*}"
      ],
      "metadata": {
        "id": "UQO55PqbGXD8"
      }
    },
    {
      "cell_type": "markdown",
      "source": [
        "###Розпишемо систему рівнянь"
      ],
      "metadata": {
        "id": "4cwWvasOIiZs"
      }
    },
    {
      "cell_type": "markdown",
      "source": [
        "\\begin{equation*}\n",
        "\\frac {b-3}{b-a} = 0,4\n",
        "\\end{equation*}"
      ],
      "metadata": {
        "id": "5RZETBqOGiZX"
      }
    },
    {
      "cell_type": "markdown",
      "source": [
        "\\begin{equation*}\n",
        " \\begin{cases}\n",
        "   \\frac {b-3}{b-a} = 0,4 \\\\\n",
        "   \\frac {a+b}{2} = 2\n",
        " \\end{cases}\n",
        "\\end{equation*}"
      ],
      "metadata": {
        "id": "mfNicepcGu_f"
      }
    },
    {
      "cell_type": "markdown",
      "source": [
        "\\begin{equation*}\n",
        " \\begin{cases}\n",
        "   b-3 = 0,4 (b - a) \\\\\n",
        "   a+b = 4\n",
        " \\end{cases}\n",
        "\\end{equation*}"
      ],
      "metadata": {
        "id": "V-r-xAr-G-lE"
      }
    },
    {
      "cell_type": "markdown",
      "source": [
        "\\begin{equation*}\n",
        "a = -3,\\\\ b = 7\n",
        "\\end{equation*}"
      ],
      "metadata": {
        "id": "TG39aB4SG_-Y"
      }
    },
    {
      "cell_type": "markdown",
      "source": [
        "###Щільність розподілу набуває вигляду:"
      ],
      "metadata": {
        "id": "Y1Xv9voJHbXB"
      }
    },
    {
      "cell_type": "markdown",
      "source": [
        "\\begin{equation*}\n",
        "f(x) = \n",
        " \\begin{cases}\n",
        "   0, &\\text{$x \\leq  -3$}\\\\\n",
        "   0,1 , &\\text{$ -3 < x \\leq 7 $}\\\\\n",
        "   0, &\\text{$x > 7$}\n",
        " \\end{cases}\n",
        "\\end{equation*}"
      ],
      "metadata": {
        "id": "I0Sm8LYZHQ3g"
      }
    },
    {
      "cell_type": "markdown",
      "source": [
        "###Відповідь: на інтервалі −3<x≤7 щільність розподілу випадкової величини Х буде дорівнювати 0,1"
      ],
      "metadata": {
        "id": "RolalyzDHmQB"
      }
    }
  ]
}