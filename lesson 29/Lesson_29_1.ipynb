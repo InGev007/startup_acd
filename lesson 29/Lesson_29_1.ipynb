{
  "nbformat": 4,
  "nbformat_minor": 0,
  "metadata": {
    "colab": {
      "provenance": [],
      "authorship_tag": "ABX9TyNLQtCOrk9hV2G8CflqP2/b",
      "include_colab_link": true
    },
    "kernelspec": {
      "name": "python3",
      "display_name": "Python 3"
    },
    "language_info": {
      "name": "python"
    }
  },
  "cells": [
    {
      "cell_type": "markdown",
      "metadata": {
        "id": "view-in-github",
        "colab_type": "text"
      },
      "source": [
        "<a href=\"https://colab.research.google.com/github/InGev007/startup_acd/blob/main/lesson%2029/Lesson_29_1.ipynb\" target=\"_parent\"><img src=\"https://colab.research.google.com/assets/colab-badge.svg\" alt=\"Open In Colab\"/></a>"
      ]
    },
    {
      "cell_type": "markdown",
      "source": [
        "#Lesson 29_1"
      ],
      "metadata": {
        "id": "puPB8Q389y3Z"
      }
    },
    {
      "cell_type": "markdown",
      "source": [
        "##Завдання:"
      ],
      "metadata": {
        "id": "vq19wg4k95b1"
      }
    },
    {
      "cell_type": "markdown",
      "source": [
        "1. Протягом 50 років вимірювався рівень води навесні під час повені відносно умовного нуля. Результати вимірювання наведено у вигляді інтервального статистичного розподілу:\n",
        "\n",
        "|$x_i$|12|36|60|84|108|132|156|180|204|\n",
        "|-----|--|--|--|--|---|---|---|---|---|\n",
        "|$n_i$|1|2|4|6|12|16|6|2|1|\n",
        "\n",
        "За даними статистичними розподілами вибірки висунути $H_0$ про закон розподілу ознаки генеральної сукупності і при рівні значущості $\\\\alpha=0.01$ перевірити її привильність.\n",
        "\n"
      ],
      "metadata": {
        "id": "BkIfOFzG9sGq"
      }
    },
    {
      "cell_type": "code",
      "source": [
        "import numpy as np\n",
        "\n",
        "x_i = [[0, 24], [24, 48], [48, 72], [72, 96], [96, 120],\n",
        "       [120, 144], [144, 168], [168, 192], [192, 216]]\n",
        "x = np.array([(item[0] + item[1])/2 for item in x_i])\n",
        "n = np.array([1, 2, 4, 6, 12, 16, 6, 2, 1])\n",
        "x, n"
      ],
      "metadata": {
        "colab": {
          "base_uri": "https://localhost:8080/"
        },
        "id": "oRiAfT5e9rHB",
        "outputId": "6442f15d-fb19-41b4-cdbc-f93432b3a3f6"
      },
      "execution_count": null,
      "outputs": [
        {
          "output_type": "execute_result",
          "data": {
            "text/plain": [
              "(array([ 12.,  36.,  60.,  84., 108., 132., 156., 180., 204.]),\n",
              " array([ 1,  2,  4,  6, 12, 16,  6,  2,  1]))"
            ]
          },
          "metadata": {},
          "execution_count": 6
        }
      ]
    },
    {
      "cell_type": "code",
      "source": [
        "mean_x = sum(x * n) / sum(n)\n",
        "print(f'Середня значення дорівнює {mean_x}')"
      ],
      "metadata": {
        "colab": {
          "base_uri": "https://localhost:8080/"
        },
        "id": "yrobc6vo_lwO",
        "outputId": "a1d909bd-c0c5-4253-ce4c-588d62b449e9"
      },
      "execution_count": null,
      "outputs": [
        {
          "output_type": "stream",
          "name": "stdout",
          "text": [
            "Середня значення дорівнює 114.72\n"
          ]
        }
      ]
    },
    {
      "cell_type": "code",
      "source": [
        "var_x = sum(x ** 2 * n) / sum(n) - (mean_x ** 2)\n",
        "print(f'Дисперсія дорівнює {round(var_x, 2)}')"
      ],
      "metadata": {
        "colab": {
          "base_uri": "https://localhost:8080/"
        },
        "id": "LsWEF5P8_s55",
        "outputId": "ea279f1a-e8ce-4b7f-9312-2b8a3aa9b756"
      },
      "execution_count": null,
      "outputs": [
        {
          "output_type": "stream",
          "name": "stdout",
          "text": [
            "Дисперсія дорівнює 1452.44\n"
          ]
        }
      ]
    },
    {
      "cell_type": "code",
      "source": [
        "sd_x = var_x ** 0.5\n",
        "print(f'Стандартне відхилення вибірки дорівнює {round(sd_x, 2)}')"
      ],
      "metadata": {
        "colab": {
          "base_uri": "https://localhost:8080/"
        },
        "id": "WNoB14GO_ulF",
        "outputId": "57516a98-9d17-4612-cbd9-436581f6ec25"
      },
      "execution_count": null,
      "outputs": [
        {
          "output_type": "stream",
          "name": "stdout",
          "text": [
            "Стандартне відхилення вибірки дорівнює 38.11\n"
          ]
        }
      ]
    },
    {
      "cell_type": "code",
      "source": [
        "import pandas as pd\n",
        "import scipy as sp\n",
        "from IPython.display import Markdown as md\n",
        "from IPython.display import display\n",
        "\n",
        "data = pd.DataFrame({'x_lower': [item[0] for item in x_i],\n",
        "                     'x_upper': [item[1] for item in x_i],\n",
        "                     'n': n})\n",
        "\n",
        "# Нижня межа Z-значення\n",
        "data['Z_upper'] = (data['x_upper'] - mean_x) / sd_x\n",
        "\n",
        "# Верхня межа Z-значення\n",
        "data['Z_lower'] = data['Z_upper'].shift(1)\n",
        "\n",
        "# Зміна позиції стовпчика\n",
        "data = data.iloc[:, [0, 1, 2, 4, 3]]\n",
        "\n",
        "# Форматування безконечності\n",
        "data.iloc[0, 3] = -np.inf\n",
        "data.iloc[8, 4] = np.inf\n",
        "\n",
        "# Нижня межа F-значення\n",
        "data['F_lower'] = [sp.stats.norm.cdf(data.loc[i, 'Z_lower']) - 0.5 for i in range(len(data['Z_lower']))]\n",
        "\n",
        "# Верхня межа F-значення\n",
        "data['F_upper'] = data['F_lower'].shift(-1)\n",
        "\n",
        "# Корегування значення\n",
        "data.iloc[8, 6] = 0.5\n",
        "\n",
        "# Розрахунок P-значення\n",
        "data['P'] = data['F_upper'] - data['F_lower']\n",
        "\n",
        "# Розрахунок теоретичної частоти\n",
        "data['N'] = data['P']*sum(data['n'])\n",
        "\n",
        "# Критерії узгодженості\n",
        "data['K'] = (data['n'] - data['N'])**2 / data['N']\n",
        "\n",
        "# Демонстрація таблиці\n",
        "display(data)\n",
        "\n",
        "# Критерій узгодженості Пірсона\n",
        "K = sum(data['K'])\n",
        "\n",
        "# Табличне значення Хі-квадрат\n",
        "Chi2 = sp.stats.chi2.ppf(0.99, len(x)-2-1)\n",
        "\n",
        "# Висновок\n",
        "md(f'Відповідь: оскільки  критичне значення $K_к(${round(Chi2, 2)}) >  $K_e(${round(K, 2)}) ми не маємо підстав відхилити гіпотезу $H_0$ про нормальність розподілу вибірки.')"
      ],
      "metadata": {
        "colab": {
          "base_uri": "https://localhost:8080/",
          "height": 366
        },
        "id": "YPmgtvqvAKnb",
        "outputId": "5ce7dc0f-be0b-4e48-d205-ea59e069a45d"
      },
      "execution_count": null,
      "outputs": [
        {
          "output_type": "display_data",
          "data": {
            "text/plain": [
              "   x_lower  x_upper   n   Z_lower   Z_upper   F_lower   F_upper         P  \\\n",
              "0        0       24   1      -inf -2.380421 -0.500000 -0.491354  0.008646   \n",
              "1       24       48   2 -2.380421 -1.750680 -0.491354 -0.459999  0.031354   \n",
              "2       48       72   4 -1.750680 -1.120939 -0.459999 -0.368843  0.091156   \n",
              "3       72       96   6 -1.120939 -0.491198 -0.368843 -0.188357  0.180486   \n",
              "4       96      120  12 -0.491198  0.138543 -0.188357  0.055094  0.243451   \n",
              "5      120      144  16  0.138543  0.768284  0.055094  0.278841  0.223746   \n",
              "6      144      168   6  0.768284  1.398025  0.278841  0.418947  0.140106   \n",
              "7      168      192   2  1.398025  2.027766  0.418947  0.478708  0.059761   \n",
              "8      192      216   1  2.027766       inf  0.478708  0.500000  0.021292   \n",
              "\n",
              "           N         K  \n",
              "0   0.432322  0.745412  \n",
              "1   1.567705  0.119205  \n",
              "2   4.557820  0.068270  \n",
              "3   9.024314  1.013537  \n",
              "4  12.172556  0.002446  \n",
              "5  11.187319  2.070371  \n",
              "6   7.005323  0.144272  \n",
              "7   2.988036  0.326708  \n",
              "8   1.064604  0.003920  "
            ],
            "text/html": [
              "\n",
              "  <div id=\"df-425df95b-3d54-4fff-a598-6d747f56f6ef\">\n",
              "    <div class=\"colab-df-container\">\n",
              "      <div>\n",
              "<style scoped>\n",
              "    .dataframe tbody tr th:only-of-type {\n",
              "        vertical-align: middle;\n",
              "    }\n",
              "\n",
              "    .dataframe tbody tr th {\n",
              "        vertical-align: top;\n",
              "    }\n",
              "\n",
              "    .dataframe thead th {\n",
              "        text-align: right;\n",
              "    }\n",
              "</style>\n",
              "<table border=\"1\" class=\"dataframe\">\n",
              "  <thead>\n",
              "    <tr style=\"text-align: right;\">\n",
              "      <th></th>\n",
              "      <th>x_lower</th>\n",
              "      <th>x_upper</th>\n",
              "      <th>n</th>\n",
              "      <th>Z_lower</th>\n",
              "      <th>Z_upper</th>\n",
              "      <th>F_lower</th>\n",
              "      <th>F_upper</th>\n",
              "      <th>P</th>\n",
              "      <th>N</th>\n",
              "      <th>K</th>\n",
              "    </tr>\n",
              "  </thead>\n",
              "  <tbody>\n",
              "    <tr>\n",
              "      <th>0</th>\n",
              "      <td>0</td>\n",
              "      <td>24</td>\n",
              "      <td>1</td>\n",
              "      <td>-inf</td>\n",
              "      <td>-2.380421</td>\n",
              "      <td>-0.500000</td>\n",
              "      <td>-0.491354</td>\n",
              "      <td>0.008646</td>\n",
              "      <td>0.432322</td>\n",
              "      <td>0.745412</td>\n",
              "    </tr>\n",
              "    <tr>\n",
              "      <th>1</th>\n",
              "      <td>24</td>\n",
              "      <td>48</td>\n",
              "      <td>2</td>\n",
              "      <td>-2.380421</td>\n",
              "      <td>-1.750680</td>\n",
              "      <td>-0.491354</td>\n",
              "      <td>-0.459999</td>\n",
              "      <td>0.031354</td>\n",
              "      <td>1.567705</td>\n",
              "      <td>0.119205</td>\n",
              "    </tr>\n",
              "    <tr>\n",
              "      <th>2</th>\n",
              "      <td>48</td>\n",
              "      <td>72</td>\n",
              "      <td>4</td>\n",
              "      <td>-1.750680</td>\n",
              "      <td>-1.120939</td>\n",
              "      <td>-0.459999</td>\n",
              "      <td>-0.368843</td>\n",
              "      <td>0.091156</td>\n",
              "      <td>4.557820</td>\n",
              "      <td>0.068270</td>\n",
              "    </tr>\n",
              "    <tr>\n",
              "      <th>3</th>\n",
              "      <td>72</td>\n",
              "      <td>96</td>\n",
              "      <td>6</td>\n",
              "      <td>-1.120939</td>\n",
              "      <td>-0.491198</td>\n",
              "      <td>-0.368843</td>\n",
              "      <td>-0.188357</td>\n",
              "      <td>0.180486</td>\n",
              "      <td>9.024314</td>\n",
              "      <td>1.013537</td>\n",
              "    </tr>\n",
              "    <tr>\n",
              "      <th>4</th>\n",
              "      <td>96</td>\n",
              "      <td>120</td>\n",
              "      <td>12</td>\n",
              "      <td>-0.491198</td>\n",
              "      <td>0.138543</td>\n",
              "      <td>-0.188357</td>\n",
              "      <td>0.055094</td>\n",
              "      <td>0.243451</td>\n",
              "      <td>12.172556</td>\n",
              "      <td>0.002446</td>\n",
              "    </tr>\n",
              "    <tr>\n",
              "      <th>5</th>\n",
              "      <td>120</td>\n",
              "      <td>144</td>\n",
              "      <td>16</td>\n",
              "      <td>0.138543</td>\n",
              "      <td>0.768284</td>\n",
              "      <td>0.055094</td>\n",
              "      <td>0.278841</td>\n",
              "      <td>0.223746</td>\n",
              "      <td>11.187319</td>\n",
              "      <td>2.070371</td>\n",
              "    </tr>\n",
              "    <tr>\n",
              "      <th>6</th>\n",
              "      <td>144</td>\n",
              "      <td>168</td>\n",
              "      <td>6</td>\n",
              "      <td>0.768284</td>\n",
              "      <td>1.398025</td>\n",
              "      <td>0.278841</td>\n",
              "      <td>0.418947</td>\n",
              "      <td>0.140106</td>\n",
              "      <td>7.005323</td>\n",
              "      <td>0.144272</td>\n",
              "    </tr>\n",
              "    <tr>\n",
              "      <th>7</th>\n",
              "      <td>168</td>\n",
              "      <td>192</td>\n",
              "      <td>2</td>\n",
              "      <td>1.398025</td>\n",
              "      <td>2.027766</td>\n",
              "      <td>0.418947</td>\n",
              "      <td>0.478708</td>\n",
              "      <td>0.059761</td>\n",
              "      <td>2.988036</td>\n",
              "      <td>0.326708</td>\n",
              "    </tr>\n",
              "    <tr>\n",
              "      <th>8</th>\n",
              "      <td>192</td>\n",
              "      <td>216</td>\n",
              "      <td>1</td>\n",
              "      <td>2.027766</td>\n",
              "      <td>inf</td>\n",
              "      <td>0.478708</td>\n",
              "      <td>0.500000</td>\n",
              "      <td>0.021292</td>\n",
              "      <td>1.064604</td>\n",
              "      <td>0.003920</td>\n",
              "    </tr>\n",
              "  </tbody>\n",
              "</table>\n",
              "</div>\n",
              "      <button class=\"colab-df-convert\" onclick=\"convertToInteractive('df-425df95b-3d54-4fff-a598-6d747f56f6ef')\"\n",
              "              title=\"Convert this dataframe to an interactive table.\"\n",
              "              style=\"display:none;\">\n",
              "        \n",
              "  <svg xmlns=\"http://www.w3.org/2000/svg\" height=\"24px\"viewBox=\"0 0 24 24\"\n",
              "       width=\"24px\">\n",
              "    <path d=\"M0 0h24v24H0V0z\" fill=\"none\"/>\n",
              "    <path d=\"M18.56 5.44l.94 2.06.94-2.06 2.06-.94-2.06-.94-.94-2.06-.94 2.06-2.06.94zm-11 1L8.5 8.5l.94-2.06 2.06-.94-2.06-.94L8.5 2.5l-.94 2.06-2.06.94zm10 10l.94 2.06.94-2.06 2.06-.94-2.06-.94-.94-2.06-.94 2.06-2.06.94z\"/><path d=\"M17.41 7.96l-1.37-1.37c-.4-.4-.92-.59-1.43-.59-.52 0-1.04.2-1.43.59L10.3 9.45l-7.72 7.72c-.78.78-.78 2.05 0 2.83L4 21.41c.39.39.9.59 1.41.59.51 0 1.02-.2 1.41-.59l7.78-7.78 2.81-2.81c.8-.78.8-2.07 0-2.86zM5.41 20L4 18.59l7.72-7.72 1.47 1.35L5.41 20z\"/>\n",
              "  </svg>\n",
              "      </button>\n",
              "      \n",
              "  <style>\n",
              "    .colab-df-container {\n",
              "      display:flex;\n",
              "      flex-wrap:wrap;\n",
              "      gap: 12px;\n",
              "    }\n",
              "\n",
              "    .colab-df-convert {\n",
              "      background-color: #E8F0FE;\n",
              "      border: none;\n",
              "      border-radius: 50%;\n",
              "      cursor: pointer;\n",
              "      display: none;\n",
              "      fill: #1967D2;\n",
              "      height: 32px;\n",
              "      padding: 0 0 0 0;\n",
              "      width: 32px;\n",
              "    }\n",
              "\n",
              "    .colab-df-convert:hover {\n",
              "      background-color: #E2EBFA;\n",
              "      box-shadow: 0px 1px 2px rgba(60, 64, 67, 0.3), 0px 1px 3px 1px rgba(60, 64, 67, 0.15);\n",
              "      fill: #174EA6;\n",
              "    }\n",
              "\n",
              "    [theme=dark] .colab-df-convert {\n",
              "      background-color: #3B4455;\n",
              "      fill: #D2E3FC;\n",
              "    }\n",
              "\n",
              "    [theme=dark] .colab-df-convert:hover {\n",
              "      background-color: #434B5C;\n",
              "      box-shadow: 0px 1px 3px 1px rgba(0, 0, 0, 0.15);\n",
              "      filter: drop-shadow(0px 1px 2px rgba(0, 0, 0, 0.3));\n",
              "      fill: #FFFFFF;\n",
              "    }\n",
              "  </style>\n",
              "\n",
              "      <script>\n",
              "        const buttonEl =\n",
              "          document.querySelector('#df-425df95b-3d54-4fff-a598-6d747f56f6ef button.colab-df-convert');\n",
              "        buttonEl.style.display =\n",
              "          google.colab.kernel.accessAllowed ? 'block' : 'none';\n",
              "\n",
              "        async function convertToInteractive(key) {\n",
              "          const element = document.querySelector('#df-425df95b-3d54-4fff-a598-6d747f56f6ef');\n",
              "          const dataTable =\n",
              "            await google.colab.kernel.invokeFunction('convertToInteractive',\n",
              "                                                     [key], {});\n",
              "          if (!dataTable) return;\n",
              "\n",
              "          const docLinkHtml = 'Like what you see? Visit the ' +\n",
              "            '<a target=\"_blank\" href=https://colab.research.google.com/notebooks/data_table.ipynb>data table notebook</a>'\n",
              "            + ' to learn more about interactive tables.';\n",
              "          element.innerHTML = '';\n",
              "          dataTable['output_type'] = 'display_data';\n",
              "          await google.colab.output.renderOutput(dataTable, element);\n",
              "          const docLink = document.createElement('div');\n",
              "          docLink.innerHTML = docLinkHtml;\n",
              "          element.appendChild(docLink);\n",
              "        }\n",
              "      </script>\n",
              "    </div>\n",
              "  </div>\n",
              "  "
            ]
          },
          "metadata": {}
        },
        {
          "output_type": "execute_result",
          "data": {
            "text/plain": [
              "<IPython.core.display.Markdown object>"
            ],
            "text/markdown": "Відповідь: оскільки  критичне значення $K_к($16.81) >  $K_e($4.49) ми не маємо підстав відхилити гіпотезу $H_0$ про нормальність розподілу вибірки."
          },
          "metadata": {},
          "execution_count": 9
        }
      ]
    }
  ]
}