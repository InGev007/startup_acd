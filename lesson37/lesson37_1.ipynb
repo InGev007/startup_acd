{
  "nbformat": 4,
  "nbformat_minor": 0,
  "metadata": {
    "colab": {
      "provenance": [],
      "mount_file_id": "1YoTZnNrA1I-_jFNysl_1-8gg0HrqTbEi",
      "authorship_tag": "ABX9TyPUZCNUTu7vXawW7zYDRAU8",
      "include_colab_link": true
    },
    "kernelspec": {
      "name": "python3",
      "display_name": "Python 3"
    },
    "language_info": {
      "name": "python"
    }
  },
  "cells": [
    {
      "cell_type": "markdown",
      "metadata": {
        "id": "view-in-github",
        "colab_type": "text"
      },
      "source": [
        "<a href=\"https://colab.research.google.com/github/InGev007/startup_acd/blob/main/lesson37/lesson37_1.ipynb\" target=\"_parent\"><img src=\"https://colab.research.google.com/assets/colab-badge.svg\" alt=\"Open In Colab\"/></a>"
      ]
    },
    {
      "cell_type": "markdown",
      "source": [
        "1. Використовуючи датасет з файлу Position_Salaries.csv, побудуйте модель поліноміальної регрессії."
      ],
      "metadata": {
        "id": "V18RsgRmp-ap"
      }
    },
    {
      "cell_type": "markdown",
      "source": [
        "Загрузимо данні"
      ],
      "metadata": {
        "id": "Q5n5t8aHuHnm"
      }
    },
    {
      "cell_type": "code",
      "execution_count": 11,
      "metadata": {
        "colab": {
          "base_uri": "https://localhost:8080/"
        },
        "id": "Nj1jHzTxpnF-",
        "outputId": "b4be74f5-8d0b-4017-996d-e8f20292fca1"
      },
      "outputs": [
        {
          "output_type": "execute_result",
          "data": {
            "text/plain": [
              "Index(['Position', 'Level', 'Salary'], dtype='object')"
            ]
          },
          "metadata": {},
          "execution_count": 11
        }
      ],
      "source": [
        "import pandas as pd\n",
        "from sklearn.model_selection import train_test_split\n",
        "\n",
        "data = pd.read_csv(\"/content/drive/MyDrive/Colab Notebooks/Position_Salaries.csv\")\n",
        "\n",
        "data.columns"
      ]
    },
    {
      "cell_type": "markdown",
      "source": [
        "Далі, необхідно розділити датасет на змінну залежної змінної (salary) та незалежних змінних (level)."
      ],
      "metadata": {
        "id": "WdvVXU2_sTdB"
      }
    },
    {
      "cell_type": "code",
      "source": [
        "X = data.iloc[:, 1:-1].values\n",
        "y = data.iloc[:, -1].values"
      ],
      "metadata": {
        "id": "EIK9Dmm8sVna"
      },
      "execution_count": 12,
      "outputs": []
    },
    {
      "cell_type": "markdown",
      "source": [
        "Після цього, можна нормалізувати дані."
      ],
      "metadata": {
        "id": "ZUrN3KdCseUl"
      }
    },
    {
      "cell_type": "code",
      "source": [
        "from sklearn.preprocessing import StandardScaler\n",
        "\n",
        "sc_X = StandardScaler()\n",
        "sc_y = StandardScaler()\n",
        "X = sc_X.fit_transform(X)\n",
        "y = sc_y.fit_transform(y.reshape(len(y), 1))"
      ],
      "metadata": {
        "id": "umpgkobhseAr"
      },
      "execution_count": 13,
      "outputs": []
    },
    {
      "cell_type": "markdown",
      "source": [
        "Побудуємо модель з поліноміальною функцією другого степеня."
      ],
      "metadata": {
        "id": "3qL0RCvLsqzY"
      }
    },
    {
      "cell_type": "code",
      "source": [
        "from sklearn.preprocessing import PolynomialFeatures\n",
        "from sklearn.linear_model import LinearRegression\n",
        "\n",
        "poly_reg = PolynomialFeatures(degree=2)\n",
        "X_poly = poly_reg.fit_transform(X)\n",
        "\n",
        "lin_reg = LinearRegression()\n",
        "lin_reg.fit(X_poly, y)"
      ],
      "metadata": {
        "colab": {
          "base_uri": "https://localhost:8080/"
        },
        "id": "lp0a2VFbtCvV",
        "outputId": "322c0e82-e1b5-4a92-9751-9b488ae65ad3"
      },
      "execution_count": 14,
      "outputs": [
        {
          "output_type": "execute_result",
          "data": {
            "text/plain": [
              "LinearRegression()"
            ]
          },
          "metadata": {},
          "execution_count": 14
        }
      ]
    },
    {
      "cell_type": "markdown",
      "source": [
        "Виведемо данні"
      ],
      "metadata": {
        "id": "lL3tOHN4tW3f"
      }
    },
    {
      "cell_type": "code",
      "source": [
        "import matplotlib.pyplot as plt\n",
        "\n",
        "plt.scatter(X, y, color='red')\n",
        "plt.plot(X, lin_reg.predict(poly_reg.fit_transform(X)), color='blue')\n",
        "plt.title('Salary vs Level (Polynomial Regression)')\n",
        "plt.xlabel('Level')\n",
        "plt.ylabel('Salary')\n",
        "plt.show()"
      ],
      "metadata": {
        "colab": {
          "base_uri": "https://localhost:8080/",
          "height": 295
        },
        "id": "D_KyZohss38Y",
        "outputId": "45e2788c-3c79-4ecf-86ec-602958ff5de8"
      },
      "execution_count": 15,
      "outputs": [
        {
          "output_type": "display_data",
          "data": {
            "text/plain": [
              "<Figure size 432x288 with 1 Axes>"
            ],
            "image/png": "[encoded data removed]"
          },
          "metadata": {
            "needs_background": "light"
          }
        }
      ]
    }
  ]
}