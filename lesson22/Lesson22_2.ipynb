{
 "cells": [
  {
   "cell_type": "markdown",
   "id": "675ee682",
   "metadata": {},
   "source": [
    "## Завдання:"
   ]
  },
  {
   "cell_type": "markdown",
   "id": "aef43e12",
   "metadata": {},
   "source": [
    "### Протягом 30 днів вересня було 12 дощових, 8 вітряних, 4 холодних, 5 дощових та вітряних, 3 дощових та холодних, 2 вітряних та холодних, а один день був дощовий, вітряний та холодний одночасно. Скільки днів у вересні була гарна погода?"
   ]
  },
  {
   "cell_type": "markdown",
   "id": "113657a8",
   "metadata": {},
   "source": [
    "## Вирішення:"
   ]
  },
  {
   "cell_type": "code",
   "execution_count": 1,
   "id": "2ce1a463",
   "metadata": {},
   "outputs": [
    {
     "name": "stdout",
     "output_type": "stream",
     "text": [
      "Відповідь: 15 днів у вересні була гарна погода\n"
     ]
    }
   ],
   "source": [
    "september = 30\n",
    "rain = 12\n",
    "wind = 8\n",
    "cold = 4\n",
    "rain_wind = 5\n",
    "rain_cold = 3\n",
    "wind_cold = 2\n",
    "rain_wind_cold = 1\n",
    "\n",
    "answer = september - (rain + wind + cold) + rain_wind + rain_cold + wind_cold - rain_wind_cold\n",
    "\n",
    "\n",
    "print(f\"Відповідь: {answer} днів у вересні була гарна погода\")"
   ]
  }
 ],
 "metadata": {
  "kernelspec": {
   "display_name": "Python 3 (ipykernel)",
   "language": "python",
   "name": "python3"
  },
  "language_info": {
   "codemirror_mode": {
    "name": "ipython",
    "version": 3
   },
   "file_extension": ".py",
   "mimetype": "text/x-python",
   "name": "python",
   "nbconvert_exporter": "python",
   "pygments_lexer": "ipython3",
   "version": "3.10.6"
  }
 },
 "nbformat": 4,
 "nbformat_minor": 5
}
