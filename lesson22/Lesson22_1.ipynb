{
 "cells": [
  {
   "cell_type": "markdown",
   "id": "675ee682",
   "metadata": {},
   "source": [
    "## Завдання:"
   ]
  },
  {
   "cell_type": "markdown",
   "id": "aef43e12",
   "metadata": {},
   "source": [
    "### За підсумками іспитів з 37 студентів відмінну оцінку з математики мали 15 студентів, з фізики – 16, з хімії – 19, з математики та фізики – 7, з математики та хімії – 9, з фізики та хімії – 6, з усіх трьох дисциплін – 4. Скільки студентів отримали хоча б по одній відмінній оцінці?"
   ]
  },
  {
   "cell_type": "markdown",
   "id": "113657a8",
   "metadata": {},
   "source": [
    "## Вирішення:"
   ]
  },
  {
   "cell_type": "code",
   "execution_count": 1,
   "id": "2ce1a463",
   "metadata": {},
   "outputs": [
    {
     "name": "stdout",
     "output_type": "stream",
     "text": [
      "Відповідь: 32 студентів отримали хоча б по одній відмінній оцінці\n"
     ]
    }
   ],
   "source": [
    "Math = 15\n",
    "Phys = 16\n",
    "Chem = 19\n",
    "Math_Phys = 7\n",
    "Math_Chem = 9\n",
    "Phys_Chem = 6\n",
    "Math_Phys_Chem = 4\n",
    "\n",
    "answer = Math + Phys + Chem - Math_Phys - Math_Chem - Phys_Chem + Math_Phys_Chem\n",
    "\n",
    "\n",
    "print(f\"Відповідь: {answer} студентів отримали хоча б по одній відмінній оцінці\")"
   ]
  }
 ],
 "metadata": {
  "kernelspec": {
   "display_name": "Python 3 (ipykernel)",
   "language": "python",
   "name": "python3"
  },
  "language_info": {
   "codemirror_mode": {
    "name": "ipython",
    "version": 3
   },
   "file_extension": ".py",
   "mimetype": "text/x-python",
   "name": "python",
   "nbconvert_exporter": "python",
   "pygments_lexer": "ipython3",
   "version": "3.10.6"
  }
 },
 "nbformat": 4,
 "nbformat_minor": 5
}
