{
 "cells": [
  {
   "cell_type": "markdown",
   "id": "299031b5",
   "metadata": {},
   "source": [
    "## Завдання 1:"
   ]
  },
  {
   "cell_type": "markdown",
   "id": "f0b2af7b",
   "metadata": {},
   "source": [
    "Із генеральної сукупності, розподіленої за нормальним законом, отримано вибірку об’ємом n=20 xi:1, 2, 4, 6, 7 ni:2, 3, 10, 3, 2 Знайти з надійністю y=0,95 інтервальну оцінку для середнього квадратичного відхилення генеральної сукупності."
   ]
  },
  {
   "cell_type": "markdown",
   "id": "86d3fbba",
   "metadata": {},
   "source": [
    "## Вирішення:"
   ]
  },
  {
   "cell_type": "markdown",
   "id": "ed845a4a",
   "metadata": {},
   "source": [
    "Для знаходження інтервальної оцінки для середнього квадратичного відхилення генеральної сукупності можна скористатися функцією Лапласа.\n",
    "\n",
    "Спочатку необхідно знайти вибіркове середнє та вибіркове середньоквадратичне відхилення:"
   ]
  },
  {
   "cell_type": "code",
   "execution_count": 1,
   "id": "498c16fb",
   "metadata": {},
   "outputs": [
    {
     "name": "stdout",
     "output_type": "stream",
     "text": [
      "Вибіркове середнє:  4.0\n",
      "Вибіркове середньоквадратичне відхилення:  1.7770466332772772\n"
     ]
    }
   ],
   "source": [
    "import math\n",
    "\n",
    "# Вибірка\n",
    "x = [1, 2, 4, 6, 7]\n",
    "n = [2, 3, 10, 3, 2]\n",
    "\n",
    "# Вибіркове середнє\n",
    "x_mean = sum([x[i]*n[i] for i in range(len(x))]) / sum(n)\n",
    "print(\"Вибіркове середнє: \", x_mean)\n",
    "\n",
    "# Вибіркове середньоквадратичне відхилення\n",
    "s = math.sqrt(sum([(x[i]-x_mean)**2*n[i] for i in range(len(x))]) / (sum(n) - 1))\n",
    "print(\"Вибіркове середньоквадратичне відхилення: \", s)"
   ]
  },
  {
   "cell_type": "markdown",
   "id": "9c819da6",
   "metadata": {},
   "source": [
    "Знайдемо квантиль розподілу Лапласа за рівнем надійності y = 0.95:"
   ]
  },
  {
   "cell_type": "code",
   "execution_count": 2,
   "id": "5dbc96a1",
   "metadata": {},
   "outputs": [
    {
     "name": "stdout",
     "output_type": "stream",
     "text": [
      "Квантиль розподілу Лапласа: 1.96\n"
     ]
    }
   ],
   "source": [
    "import scipy.stats as st\n",
    "y = 0.95\n",
    "q = 1 - (1 - y) / 2\n",
    "laplace_quantile = abs(round(st.norm.ppf(q), 4))\n",
    "print(\"Квантиль розподілу Лапласа:\", laplace_quantile)"
   ]
  },
  {
   "cell_type": "markdown",
   "id": "ea8d83c2",
   "metadata": {},
   "source": [
    "Обчислимо інтервальну оцінку для середнього квадратичного відхилення генеральної сукупності:"
   ]
  },
  {
   "cell_type": "code",
   "execution_count": 3,
   "id": "e330dcae",
   "metadata": {},
   "outputs": [
    {
     "name": "stdout",
     "output_type": "stream",
     "text": [
      "Інтервальна оцінка для середнього квадратичного відхилення генеральної сукупності: (0.7788250259542457, 0.7788250259542457)\n"
     ]
    }
   ],
   "source": [
    "lower = s / math.sqrt(sum(n)) * laplace_quantile\n",
    "upper = s / math.sqrt(sum(n)) * laplace_quantile\n",
    "print(\"Інтервальна оцінка для середнього квадратичного відхилення генеральної сукупності: ({}, {})\".format(lower, upper))"
   ]
  }
 ],
 "metadata": {
  "kernelspec": {
   "display_name": "Python 3 (ipykernel)",
   "language": "python",
   "name": "python3"
  },
  "language_info": {
   "codemirror_mode": {
    "name": "ipython",
    "version": 3
   },
   "file_extension": ".py",
   "mimetype": "text/x-python",
   "name": "python",
   "nbconvert_exporter": "python",
   "pygments_lexer": "ipython3",
   "version": "3.10.6"
  }
 },
 "nbformat": 4,
 "nbformat_minor": 5
}
