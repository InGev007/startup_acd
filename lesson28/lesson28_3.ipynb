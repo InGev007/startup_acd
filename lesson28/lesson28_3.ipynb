{
 "cells": [
  {
   "cell_type": "markdown",
   "id": "299031b5",
   "metadata": {},
   "source": [
    "## Завдання 3:"
   ]
  },
  {
   "cell_type": "markdown",
   "id": "f0b2af7b",
   "metadata": {},
   "source": [
    "Знайти мінімальний об’єм вибірки, при якому з надійністю у=0,99 точність оцінки математичного сподівання а нормально розподіленої ознаки дорівнює δ=0,6, якщо середнє квадратичне відхилення ϭ=3"
   ]
  },
  {
   "cell_type": "markdown",
   "id": "86d3fbba",
   "metadata": {},
   "source": [
    "## Вирішення:"
   ]
  },
  {
   "cell_type": "markdown",
   "id": "36d3628c",
   "metadata": {},
   "source": [
    "Для знаходження мінімального об'єму вибірки n необхідно використати формулу:\n",
    "\n",
    "\n",
    "$n = (\\frac{z * σ}{δ})^2$\n",
    "\n",
    "\n",
    "де:\n",
    "\n",
    "z - коефіцієнт нормального розподілу, який відповідає надійності у=0,99 (зазвичай це значення 2,576);\n",
    "\n",
    "σ - середнє квадратичне відхилення;\n",
    "\n",
    "δ - точність оцінки математичного сподівання.\n",
    "\n",
    "Підставляємо в формулу відповідні значення:\n",
    "\n",
    "$n = (\\frac{2.576 * 3}{0.6})^2$\n",
    "\n",
    "\n",
    "Отже, мінімальний об'єм вибірки, який забезпечує надійність у=0,99 та точність оцінки математичного сподівання δ=0,6 при середньому квадратичному відхиленні ϭ=3, дорівнює 166 (округлюємо до цілого числа, більшого за 165.89)."
   ]
  },
  {
   "cell_type": "code",
   "execution_count": 5,
   "id": "5dbc96a1",
   "metadata": {},
   "outputs": [
    {
     "data": {
      "text/plain": [
       "165.89440000000002"
      ]
     },
     "execution_count": 5,
     "metadata": {},
     "output_type": "execute_result"
    }
   ],
   "source": [
    "z=2.576\n",
    "a=3\n",
    "b=0.6\n",
    "n=((z*a)/b)**2\n",
    "n"
   ]
  }
 ],
 "metadata": {
  "kernelspec": {
   "display_name": "Python 3 (ipykernel)",
   "language": "python",
   "name": "python3"
  },
  "language_info": {
   "codemirror_mode": {
    "name": "ipython",
    "version": 3
   },
   "file_extension": ".py",
   "mimetype": "text/x-python",
   "name": "python",
   "nbconvert_exporter": "python",
   "pygments_lexer": "ipython3",
   "version": "3.10.6"
  }
 },
 "nbformat": 4,
 "nbformat_minor": 5
}
