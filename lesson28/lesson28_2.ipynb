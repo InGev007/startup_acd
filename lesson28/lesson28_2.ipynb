{
 "cells": [
  {
   "cell_type": "markdown",
   "id": "299031b5",
   "metadata": {},
   "source": [
    "## Завдання 2:"
   ]
  },
  {
   "cell_type": "markdown",
   "id": "f0b2af7b",
   "metadata": {},
   "source": [
    "Знайти з надійністю у=0.95 інтервальну оцінку для ймовірності настання події А в кожному із n =100 незалежних повторних випробувань, якщо подія відбулась m=40 раз"
   ]
  },
  {
   "cell_type": "markdown",
   "id": "86d3fbba",
   "metadata": {},
   "source": [
    "## Вирішення:"
   ]
  },
  {
   "cell_type": "code",
   "execution_count": 1,
   "id": "5dbc96a1",
   "metadata": {},
   "outputs": [
    {
     "name": "stdout",
     "output_type": "stream",
     "text": [
      "Інтервальна оцінка: (0.30398000208289944, 0.4960199979171006)\n"
     ]
    }
   ],
   "source": [
    "import math\n",
    "\n",
    "# вхідні дані\n",
    "m = 40 # кількість сприятливих подій\n",
    "n = 100 # кількість повторних випробувань\n",
    "y = 0.95 # надійність\n",
    "\n",
    "# знаходимо шукану ймовірність\n",
    "A = m/n\n",
    "\n",
    "# знаходимо стандартну похибку\n",
    "sigma_A = math.sqrt(A*(1-A)/n)\n",
    "\n",
    "# знаходимо коефіцієнт Лапласа\n",
    "z = 1.96\n",
    "\n",
    "# знаходимо інтервальну оцінку\n",
    "interval = (A - z*sigma_A, A + z*sigma_A)\n",
    "\n",
    "# виводимо результат\n",
    "print(f\"Інтервальна оцінка: {interval}\")"
   ]
  }
 ],
 "metadata": {
  "kernelspec": {
   "display_name": "Python 3 (ipykernel)",
   "language": "python",
   "name": "python3"
  },
  "language_info": {
   "codemirror_mode": {
    "name": "ipython",
    "version": 3
   },
   "file_extension": ".py",
   "mimetype": "text/x-python",
   "name": "python",
   "nbconvert_exporter": "python",
   "pygments_lexer": "ipython3",
   "version": "3.10.6"
  }
 },
 "nbformat": 4,
 "nbformat_minor": 5
}
