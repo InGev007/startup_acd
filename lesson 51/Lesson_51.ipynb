{
  "nbformat": 4,
  "nbformat_minor": 0,
  "metadata": {
    "colab": {
      "provenance": [],
      "authorship_tag": "ABX9TyNq/4zFri1auBmGQf2zUh60",
      "include_colab_link": true
    },
    "kernelspec": {
      "name": "python3",
      "display_name": "Python 3"
    },
    "language_info": {
      "name": "python"
    }
  },
  "cells": [
    {
      "cell_type": "markdown",
      "metadata": {
        "id": "view-in-github",
        "colab_type": "text"
      },
      "source": [
        "<a href=\"https://colab.research.google.com/github/InGev007/startup_acd/blob/main/lesson%2051/Lesson_51.ipynb\" target=\"_parent\"><img src=\"https://colab.research.google.com/assets/colab-badge.svg\" alt=\"Open In Colab\"/></a>"
      ]
    },
    {
      "cell_type": "markdown",
      "source": [
        "#Lesson 51"
      ],
      "metadata": {
        "id": "NP3bVOhOdINo"
      }
    },
    {
      "cell_type": "markdown",
      "source": [
        "##Завдання:"
      ],
      "metadata": {
        "id": "LOsfhB92dLfm"
      }
    },
    {
      "cell_type": "markdown",
      "source": [
        "До пункту видачі надійшли вироби з такими характеристиками: Всього виробів – 13000 одиниць, з них виготовлено на першому заводі — 8000 од., вагою 13 кг., зі стандартним відхиленням по вазі 0.5 кг.. На другому — 5000 од., вагою 12 кг., зі стандартним відхиленням по вазі 0.7 кг. Доля якісних виробів, вироблених на першому заводі, становить 0.85. Доля якісних виробів, вироблених на другому заводі 0,8.\n",
        "\n",
        "*Написати код, з використанням EM-алгоритму, для визначення ймовірності, на якому заводі був вироблений виріб.*"
      ],
      "metadata": {
        "id": "A_DIpLQHdOuM"
      }
    },
    {
      "cell_type": "markdown",
      "source": [
        "##Рішення:"
      ],
      "metadata": {
        "id": "O-h21whfdYqS"
      }
    },
    {
      "cell_type": "markdown",
      "source": [
        "### Підключаємо бібліотеки"
      ],
      "metadata": {
        "id": "Ioh9foZrdU-h"
      }
    },
    {
      "cell_type": "code",
      "source": [
        "# імпортуємо бібліотеки, модулі\n",
        "import numpy as np\n",
        "import random\n",
        "import math\n",
        "import matplotlib.pyplot as plt\n",
        "%matplotlib inline\n",
        "from sklearn.metrics import accuracy_score"
      ],
      "metadata": {
        "id": "MWHvLs7Ado2G"
      },
      "execution_count": 1,
      "outputs": []
    },
    {
      "cell_type": "markdown",
      "source": [
        "###Додаткові функції"
      ],
      "metadata": {
        "id": "BuRImLG_dsoO"
      }
    },
    {
      "cell_type": "code",
      "source": [
        "# функція щільності ймовірності\n",
        "def gaus_func(mu,sigma,x):\n",
        "    return math.e**(-(x-mu)**2/(2*sigma**2)) / (sigma*(2*math.pi)**0.5)\n",
        "\n",
        "# функція визначення ймовірностей приналежності деталей до верстата\n",
        "def proba_x(X, w1, w2, mu_1, mu_2, sigma_1, sigma_2):\n",
        "    for i in X:\n",
        "        P1_x = gaus_func(mu_1,sigma_1,i)\n",
        "        P2_x = gaus_func(mu_2,sigma_2,i)\n",
        "        P_x = w1*P1_x + w2*P2_x\n",
        "        P_x_1 = (w1*P1_x)/P_x\n",
        "        P_x_2 = (w2*P2_x)/P_x\n",
        "        proba_temp = []\n",
        "        proba_temp.append(P_x_1)\n",
        "        proba_temp.append(P_x_2)\n",
        "        proba_X.append(proba_temp)\n",
        "    return proba_X\n",
        "\n",
        "# функція віднесення виробу до верстата\n",
        "def pred_x(proba_X, limit_proba):\n",
        "    pred_X = []\n",
        "    for x in proba_X:\n",
        "        if x[0] >= limit_proba:\n",
        "            pred_X.append(1)\n",
        "        else:\n",
        "            pred_X.append(2)\n",
        "    return np.array(pred_X)\n",
        "\n",
        "# функція побудови графіків\n",
        "def graph(X, pred_X, mu_1, sigma_1, mu_2, sigma_2):\n",
        "    true_pred = []\n",
        "    false_pred_1 = []\n",
        "    false_pred_2 = []\n",
        "    for i in range(X.shape[0]):\n",
        "        if pred_X[i] == y[i]:\n",
        "            true_pred.append([X[i], -0.025])\n",
        "        else:\n",
        "            if y[i] == 1:\n",
        "                false_pred_1.append([X[i], -0.0075])\n",
        "            else:\n",
        "                false_pred_2.append([X[i], -0.015])\n",
        "\n",
        "    false_pred_1 = np.array(false_pred_1)\n",
        "    false_pred_2 = np.array(false_pred_2)\n",
        "    true_pred = np.array(true_pred)\n",
        "\n",
        "    x_theory = np.linspace(42, 85, 20000)\n",
        "    y_theory_1 = []\n",
        "    for x in x_theory:\n",
        "        y_theory_1.append(gaus_func(mu_1,sigma_1,x))\n",
        "    y_theory_2 = []\n",
        "    for x in x_theory:\n",
        "        y_theory_2.append(gaus_func(mu_2,sigma_2,x))\n",
        "\n",
        "    plt.figure(figsize=(10, 8))\n",
        "    plt.hist(\n",
        "        X[:N1], bins = 'auto', color='#539caf', label = 'Вироблені на завод 1')\n",
        "    plt.hist(\n",
        "        X[N1:N], bins = 'auto', color='sandybrown', label = 'Вироблені на завод 2')\n",
        "    plt.plot(mu_1, 0, 'o', markersize = 11, color = 'blue', label = 'Mu 1')\n",
        "    plt.plot(mu_2, 0, 'o', markersize = 11, color = 'red', label = 'Mu 2')\n",
        "\n",
        "    plt.plot([mu_1 - sigma_1, mu_1 - sigma_1], [0,0.85*np.max(y_theory_1)],\n",
        "             ':', lw = 3, color = 'blue', alpha = 0.55, label = 'Mu1 - sigma1')\n",
        "    plt.plot([mu_1 + sigma_1, mu_1 + sigma_1], [0,0.85*np.max(y_theory_1)],\n",
        "             ':', lw = 3, color = 'blue', alpha = 0.55, label = 'Mu1 + sigma1')\n",
        "    plt.plot([mu_2 - sigma_2, mu_2 - sigma_2], [0,0.85*np.max(y_theory_2)],\n",
        "             ':', lw = 3, color = 'red', alpha = 0.55, label = 'Mu2 - sigma2')\n",
        "    plt.plot([mu_2 + sigma_2, mu_2 + sigma_2], [0,0.85*np.max(y_theory_2)],\n",
        "             ':', lw = 3, color = 'red', alpha = 0.55, label = 'Mu2 + sigma2')\n",
        "\n",
        "    plt.plot([mu_1 - 2 * sigma_1, mu_1 - 2 * sigma_1], [0, 0.9*0.5 * np.max(y_theory_1)],\n",
        "             ':', lw = 2.5, color = 'blue', alpha = 0.35, label = 'Mu1 - 2*sigma1')\n",
        "    plt.plot([mu_1 + 2 * sigma_1, mu_1 + 2 * sigma_1], [0, 0.9*0.5 * np.max(y_theory_1)],\n",
        "             ':', lw = 2.5, color = 'blue', alpha = 0.35, label = 'Mu1 + 2*sigma1')\n",
        "    plt.plot([mu_2 - 2 * sigma_2, mu_2 - 2 * sigma_2], [0, 0.9*0.5 * np.max(y_theory_2)],\n",
        "             ':', lw = 2.5, color = 'red', alpha = 0.35, label = 'Mu2 - 2*sigma2')\n",
        "    plt.plot([mu_2 + 2 * sigma_2, mu_2 + 2 * sigma_2], [0, 0.9*0.5 * np.max(y_theory_2)],\n",
        "             ':', lw = 2.5, color = 'red', alpha = 0.35, label = 'Mu2 + 2*sigma2')\n",
        "\n",
        "    plt.plot(false_pred_1[:,0], false_pred_1[:,1], 'o', markersize = 2.5, color = 'blue', alpha = 0.2, label = 'errors1')\n",
        "    plt.plot(false_pred_2[:,0], false_pred_2[:,1], 'o', markersize = 2.5, color = 'red', alpha = 0.3, label = 'errors2')\n",
        "    plt.plot(true_pred[:,0], true_pred[:,1], 'o', markersize = 3, color = 'green', alpha = 0.2, label = 'right answers')\n",
        "\n",
        "    plt.xlabel('Вага')\n",
        "    plt.ylabel('Щільність ймовірності (p)')\n",
        "    plt.legend()\n",
        "    plt.show()"
      ],
      "metadata": {
        "id": "iDLONyR_eGjS"
      },
      "execution_count": 2,
      "outputs": []
    },
    {
      "cell_type": "markdown",
      "source": [
        "### Вхідні данні"
      ],
      "metadata": {
        "id": "1iDnDwA0e9jM"
      }
    },
    {
      "cell_type": "code",
      "source": [
        "# кількість виробів на верстаті №1\n",
        "N1 = 8000\n",
        "# кількість виробів на верстаті №2\n",
        "N2 = 5000\n",
        "# кількість виробів вироблених на обох верстатах\n",
        "N = N1+N2\n",
        "# вага виробу верстата №1\n",
        "mu_1 = 13.0\n",
        "# стандартне відхилення ваги виробу верстата №1\n",
        "sigma_1 = 0.5\n",
        "# вага виробу верстата №2\n",
        "mu_2 = 12.0\n",
        "# стандартне відхилення ваги виробу верстата №2\n",
        "sigma_2 = 0.7\n",
        "# доля якісних виробів №1\n",
        "w1 = 0.85\n",
        "# доля якісних виробів №2\n",
        "w2 = 0.8"
      ],
      "metadata": {
        "id": "sOZVfq-tePUf"
      },
      "execution_count": 3,
      "outputs": []
    },
    {
      "cell_type": "markdown",
      "source": [
        "### Розрахунок ймовіностей"
      ],
      "metadata": {
        "id": "IsZNCbrpfMfY"
      }
    },
    {
      "cell_type": "code",
      "source": [
        "X = np.zeros((N))\n",
        "np.random.seed(seed=2023)\n",
        "\n",
        "# ініціалізуємо дані щодо деталей, виробництва верстата №1\n",
        "X[:N1] = np.random.normal(loc=mu_1, scale=sigma_1, size=N1)\n",
        "\n",
        "# ініціалізуємо дані щодо деталей, виробництва верстата №2\n",
        "X[N1:N] = np.random.normal(loc=mu_2, scale=sigma_2, size=N2)\n",
        "\n",
        "# ініціалізуємо вектор відповідей\n",
        "y = np.zeros((N))\n",
        "y[:N1] = np.array((1))\n",
        "y[N1:N] = np.array((2))\n",
        "\n",
        "# ймовірність приналежності до того чи іншого верстата\n",
        "proba_X = []\n",
        "proba_X = proba_x(X, w1, w2, mu_1, mu_2, sigma_1, sigma_2)\n",
        "\n",
        "# поріг ймовірності, при досягненні якого, виріб ставитиметься до того чи іншого верстата\n",
        "limit_proba = 0.5\n",
        "\n",
        "# визначимо приналежність деталі до верстата\n",
        "pred_X = []\n",
        "pred_X = pred_x(proba_X, limit_proba)\n",
        "\n",
        "# визначимо якість нашого алгоритму\n",
        "print ('Доля вірно визначених виробів:', round(accuracy_score(y, pred_X),3), '\\n')\n",
        "\n",
        "print('Графік №1')\n",
        "graph(X, pred_X, mu_1, sigma_1, mu_2, sigma_2)"
      ],
      "metadata": {
        "colab": {
          "base_uri": "https://localhost:8080/",
          "height": 554
        },
        "id": "Aada1Y7CeNLX",
        "outputId": "486a52c2-c8aa-4196-8a9e-9d8cdb8c7f41"
      },
      "execution_count": 4,
      "outputs": [
        {
          "output_type": "stream",
          "name": "stdout",
          "text": [
            "Доля вірно визначених виробів: 0.818 \n",
            "\n",
            "Графік №1\n"
          ]
        },
        {
          "output_type": "display_data",
          "data": {
            "text/plain": [
              "<Figure size 720x576 with 1 Axes>"
            ],
            "image/png": "[encoded data removed]"
          },
          "metadata": {
            "needs_background": "light"
          }
        }
      ]
    },
    {
      "cell_type": "markdown",
      "source": [
        "###Висновок:\n",
        "Точність наведеного алгоритму є досить високою і становить 0.82"
      ],
      "metadata": {
        "id": "9WcUJoMpedxA"
      }
    }
  ]
}