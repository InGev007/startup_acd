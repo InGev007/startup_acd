{
  "nbformat": 4,
  "nbformat_minor": 0,
  "metadata": {
    "colab": {
      "provenance": [],
      "authorship_tag": "ABX9TyPSSAAwD/qwabIzJ/HspgIc",
      "include_colab_link": true
    },
    "kernelspec": {
      "name": "python3",
      "display_name": "Python 3"
    },
    "language_info": {
      "name": "python"
    },
    "accelerator": "GPU",
    "gpuClass": "standard"
  },
  "cells": [
    {
      "cell_type": "markdown",
      "metadata": {
        "id": "view-in-github",
        "colab_type": "text"
      },
      "source": [
        "<a href=\"https://colab.research.google.com/github/InGev007/startup_acd/blob/main/Lesson%2068/Lesson_68.ipynb\" target=\"_parent\"><img src=\"https://colab.research.google.com/assets/colab-badge.svg\" alt=\"Open In Colab\"/></a>"
      ]
    },
    {
      "cell_type": "code",
      "execution_count": 1,
      "metadata": {
        "colab": {
          "base_uri": "https://localhost:8080/"
        },
        "id": "wVuUVr1PgSo6",
        "outputId": "c1efc099-5b4e-4376-8f21-242862aa7f81"
      },
      "outputs": [
        {
          "output_type": "stream",
          "name": "stdout",
          "text": [
            "2.0.0+cu118\n"
          ]
        }
      ],
      "source": [
        "import torch\n",
        "print(torch.__version__)\n",
        "import torch\n",
        "import torch.nn as nn\n",
        "import torch.optim as opt\n",
        "torch.set_printoptions(linewidth=120)\n",
        "import torch.nn.functional as F\n",
        "import torchvision\n",
        "import torchvision.transforms as transforms\n",
        "from torch.utils.tensorboard import SummaryWriter\n",
        " \n",
        "class CNN(nn.Module):\n",
        "    def __init__(self):\n",
        "        super().__init__()\n",
        "        self.conv1 = nn.Conv2d(in_channels=1, out_channels=6, kernel_size=5)\n",
        "        self.conv2 = nn.Conv2d(in_channels=6, out_channels=12, kernel_size=5)\n",
        "\n",
        "        self.fc1 = nn.Linear(in_features=12*4*4, out_features=120)\n",
        "        self.fc2 = nn.Linear(in_features=120, out_features=90)\n",
        "        self.fc3 = nn.Linear(in_features=90, out_features=60)\n",
        "        self.out = nn.Linear(in_features=60, out_features=10)\n",
        "\n",
        "    def forward(self, x):\n",
        "        x = F.relu(self.conv1(x))\n",
        "        x = F.max_pool2d(x, kernel_size = 2, stride = 2)\n",
        "        x = F.relu(self.conv2(x))\n",
        "        x = F.max_pool2d(x, kernel_size = 2, stride = 2)\n",
        "        x = torch.flatten(x,start_dim = 1)\n",
        "        x = F.relu(self.fc1(x))\n",
        "        x = F.relu(self.fc2(x))\n",
        "        x = F.relu(self.fc3(x))\n",
        "        x = self.out(x)\n",
        "\n",
        "        return x\n",
        "\n"
      ]
    },
    {
      "cell_type": "code",
      "source": [
        "train_set = torchvision.datasets.FashionMNIST(root=\"./data\",\n",
        "train = True,\n",
        " download=True,\n",
        "transform=transforms.ToTensor())\n",
        "train_loader = torch.utils.data.DataLoader(train_set,\n",
        "                                           batch_size = 100,\n",
        "                                           shuffle = True)\n"
      ],
      "metadata": {
        "id": "RgKBB_Sggd8p"
      },
      "execution_count": 2,
      "outputs": []
    },
    {
      "cell_type": "code",
      "source": [
        "tb = SummaryWriter()\n",
        "model = CNN()\n",
        "images, labels = next(iter(train_loader))\n",
        "grid = torchvision.utils.make_grid(images)\n",
        "tb.add_image(\"images\", grid)\n",
        "tb.add_graph(model, images)\n",
        "tb.close()\n"
      ],
      "metadata": {
        "id": "WZTVjnZWgl_Z"
      },
      "execution_count": 3,
      "outputs": []
    },
    {
      "cell_type": "code",
      "source": [
        "model = CNN()\n",
        "train_loader = torch.utils.data.DataLoader(train_set,batch_size = 100, shuffle = True)\n",
        "optimizer = opt.Adam(model.parameters(), lr= 0.01)\n",
        "criterion = torch.nn.CrossEntropyLoss()\n",
        "\n",
        "tb = SummaryWriter()\n",
        "\n",
        "def get_num_correct(preds, labels):\n",
        "    return preds.argmax(dim=1).eq(labels).sum().item()\n",
        "\n",
        "for epoch in range(10):\n",
        "\n",
        "    total_loss = 0\n",
        "    total_correct = 0\n",
        "\n",
        "    for images, labels in train_loader:\n",
        "        images, labels = images, labels\n",
        "        preds = model(images)\n",
        "\n",
        "        loss = criterion(preds, labels)\n",
        "        total_loss+= loss.item()\n",
        "        total_correct+= get_num_correct(preds, labels)\n",
        "\n",
        "        optimizer.zero_grad()\n",
        "        loss.backward()\n",
        "        optimizer.step()\n",
        "\n",
        "    tb.add_scalar(\"Loss\", total_loss, epoch)\n",
        "    tb.add_scalar(\"Correct\", total_correct, epoch)\n",
        "    tb.add_scalar(\"Accuracy\", total_correct/ len(train_set), epoch)\n",
        "\n",
        "    tb.add_histogram(\"conv1.bias\", model.conv1.bias, epoch)\n",
        "    tb.add_histogram(\"conv1.weight\", model.conv1.weight, epoch)\n",
        "    tb.add_histogram(\"conv2.bias\", model.conv2.bias, epoch)\n",
        "    tb.add_histogram(\"conv2.weight\", model.conv2.weight, epoch)\n",
        "\n",
        "    print(\"epoch:\", epoch, \"total_correct:\", total_correct, \"loss:\",total_loss)\n",
        "\n",
        "tb.close()"
      ],
      "metadata": {
        "colab": {
          "base_uri": "https://localhost:8080/"
        },
        "id": "PYK7TTeHgpFn",
        "outputId": "6b8c98f3-2b46-44dc-be0a-1f0471de5bb2"
      },
      "execution_count": 4,
      "outputs": [
        {
          "output_type": "stream",
          "name": "stdout",
          "text": [
            "epoch: 0 total_correct: 46012 loss: 366.83394542336464\n",
            "epoch: 1 total_correct: 51041 loss: 246.35745541751385\n",
            "epoch: 2 total_correct: 51830 loss: 223.6937211304903\n",
            "epoch: 3 total_correct: 52197 loss: 213.9793493449688\n",
            "epoch: 4 total_correct: 52598 loss: 202.94949634373188\n",
            "epoch: 5 total_correct: 52715 loss: 200.5392372906208\n",
            "epoch: 6 total_correct: 52977 loss: 194.00732147693634\n",
            "epoch: 7 total_correct: 52972 loss: 194.78461606800556\n",
            "epoch: 8 total_correct: 52919 loss: 197.6007394194603\n",
            "epoch: 9 total_correct: 53062 loss: 191.720330350101\n"
          ]
        }
      ]
    }
  ]
}