{
 "cells": [
  {
   "cell_type": "markdown",
   "id": "299031b5",
   "metadata": {},
   "source": [
    "## Завдання 1:"
   ]
  },
  {
   "cell_type": "markdown",
   "id": "f0b2af7b",
   "metadata": {},
   "source": [
    "### 1. Прилад містить 7 елементів, з яких три зношені. При включенні приладу випадковим чином включаються три елементи. Знайти ймовірність того, що при цьому виявляться включеними два незношені елементи."
   ]
  },
  {
   "cell_type": "markdown",
   "id": "86d3fbba",
   "metadata": {},
   "source": [
    "## Вирішення:"
   ]
  },
  {
   "cell_type": "code",
   "execution_count": 1,
   "id": "15351052",
   "metadata": {},
   "outputs": [],
   "source": [
    "all = 7\n",
    "bad = 3\n",
    "turn_on = 3\n",
    "good = 2\n",
    "bad_on = 1"
   ]
  },
  {
   "cell_type": "code",
   "execution_count": 3,
   "id": "5d32b497",
   "metadata": {},
   "outputs": [],
   "source": [
    "from math import factorial"
   ]
  },
  {
   "cell_type": "markdown",
   "id": "c509b110",
   "metadata": {},
   "source": [
    "$ n = C_7 ^3 $"
   ]
  },
  {
   "cell_type": "code",
   "execution_count": 4,
   "id": "4c573d0a",
   "metadata": {},
   "outputs": [],
   "source": [
    "n = factorial(all)/((factorial(turn_on)) * (factorial(all-turn_on)))"
   ]
  },
  {
   "cell_type": "markdown",
   "id": "b6f8e7de",
   "metadata": {},
   "source": [
    "$ m = C_4 ^2 * C_3 ^1 $"
   ]
  },
  {
   "cell_type": "code",
   "execution_count": 5,
   "id": "915e51f2",
   "metadata": {},
   "outputs": [],
   "source": [
    "m = (factorial(all-bad)/(factorial(good) * factorial(all-bad-good))) * (factorial(bad)/(factorial(bad_on) * factorial(bad-bad_on)))"
   ]
  },
  {
   "cell_type": "markdown",
   "id": "3cf2182f",
   "metadata": {},
   "source": [
    "$ P(A) = \\cfrac{m}{n} $"
   ]
  },
  {
   "cell_type": "code",
   "execution_count": 6,
   "id": "ce796734",
   "metadata": {},
   "outputs": [],
   "source": [
    "p=m/n"
   ]
  },
  {
   "cell_type": "code",
   "execution_count": 7,
   "id": "b8054f3d",
   "metadata": {},
   "outputs": [
    {
     "name": "stdout",
     "output_type": "stream",
     "text": [
      "Ймовірність того, виявляться включенеми два незношені елементи: 0.5142857142857142\n"
     ]
    }
   ],
   "source": [
    "print(f\"Ймовірність того, виявляться включенеми два незношені елементи: {p}\")"
   ]
  }
 ],
 "metadata": {
  "kernelspec": {
   "display_name": "Python 3 (ipykernel)",
   "language": "python",
   "name": "python3"
  },
  "language_info": {
   "codemirror_mode": {
    "name": "ipython",
    "version": 3
   },
   "file_extension": ".py",
   "mimetype": "text/x-python",
   "name": "python",
   "nbconvert_exporter": "python",
   "pygments_lexer": "ipython3",
   "version": "3.10.6"
  }
 },
 "nbformat": 4,
 "nbformat_minor": 5
}
