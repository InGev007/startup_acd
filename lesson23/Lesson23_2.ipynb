{
 "cells": [
  {
   "cell_type": "markdown",
   "id": "299031b5",
   "metadata": {},
   "source": [
    "## Завдання 2:"
   ]
  },
  {
   "cell_type": "markdown",
   "id": "f0b2af7b",
   "metadata": {},
   "source": [
    "###  Для сигналізації про аварію встановлено два незалежно працюючих сигналізатори. Ймовірність того, що при аварії спрацює перший сигналізатор дорівнює 0,95, ця ймовірність для другого сигналізатора дорівнює 0,9. Знайти ймовірність того, що при аварії спрацює:"
   ]
  },
  {
   "cell_type": "markdown",
   "id": "8d948798",
   "metadata": {},
   "source": [
    "#### а) хоча б один сигналізатор;"
   ]
  },
  {
   "cell_type": "markdown",
   "id": "cd13987c",
   "metadata": {},
   "source": [
    "#### б) тільки один сигналізатор."
   ]
  },
  {
   "cell_type": "markdown",
   "id": "86d3fbba",
   "metadata": {},
   "source": [
    "## Вирішення:"
   ]
  },
  {
   "cell_type": "markdown",
   "id": "6d961de5",
   "metadata": {},
   "source": [
    "#### Ймовірність того, що сигналізація не спрацює:\n",
    "$ q = 1 - p $"
   ]
  },
  {
   "cell_type": "code",
   "execution_count": 18,
   "id": "5d32b497",
   "metadata": {},
   "outputs": [
    {
     "name": "stdout",
     "output_type": "stream",
     "text": [
      "Ймовірність того, що перша сигналізація не спрацює:0.05\n"
     ]
    }
   ],
   "source": [
    "q1 = 1 - 0.95\n",
    "print(f\"Ймовірність того, що перша сигналізація не спрацює:{round(q1,2)}\")"
   ]
  },
  {
   "cell_type": "code",
   "execution_count": 16,
   "id": "b5466ea5",
   "metadata": {},
   "outputs": [
    {
     "name": "stdout",
     "output_type": "stream",
     "text": [
      "Ймовірність того, що друга сигналізація не спрацює:0.1\n"
     ]
    }
   ],
   "source": [
    "q2 = 1 - 0.9\n",
    "print(f\"Ймовірність того, що друга сигналізація не спрацює:{round(q2,2)}\")"
   ]
  },
  {
   "cell_type": "markdown",
   "id": "c891d262",
   "metadata": {},
   "source": [
    "#### Ймовірність того, що обидві сигналізації не спрацють:\n",
    "$ q = q1 * q2 $"
   ]
  },
  {
   "cell_type": "code",
   "execution_count": 15,
   "id": "915e51f2",
   "metadata": {},
   "outputs": [
    {
     "name": "stdout",
     "output_type": "stream",
     "text": [
      "Ймовірність того, що обидві сигналізації не спрацють:0.005\n"
     ]
    }
   ],
   "source": [
    "q = q1 * q2\n",
    "print(f\"Ймовірність того, що обидві сигналізації не спрацють:{round(q,3)}\")"
   ]
  },
  {
   "cell_type": "markdown",
   "id": "3cf2182f",
   "metadata": {},
   "source": [
    "#### A) Ймовірність того, що спрацює хоча б один сигналізатор: \n",
    "$ p = 1 - q $"
   ]
  },
  {
   "cell_type": "code",
   "execution_count": 11,
   "id": "ce796734",
   "metadata": {},
   "outputs": [
    {
     "name": "stdout",
     "output_type": "stream",
     "text": [
      "Відповідь: А) Ймовірність того, що спрацює хоча б один сигналізатор: 0.995\n"
     ]
    }
   ],
   "source": [
    "p = 1 - q\n",
    "print(f\"Відповідь: А) Ймовірність того, що спрацює хоча б один сигналізатор: {round(p,3)}\")"
   ]
  },
  {
   "cell_type": "markdown",
   "id": "6cc660a5",
   "metadata": {},
   "source": [
    "#### Б) Ймовірність того, що спрацює тільки один сигналізатор:\n",
    "$p(1) = p1*q2 + q1*p2 $"
   ]
  },
  {
   "cell_type": "code",
   "execution_count": 12,
   "id": "80cc703c",
   "metadata": {},
   "outputs": [
    {
     "name": "stdout",
     "output_type": "stream",
     "text": [
      "Відповідь: Б) Ймовірність того, що спрацює тільки один сигналізатор: 0.14\n"
     ]
    }
   ],
   "source": [
    "p=0.95*q2 + q1*0.9\n",
    "print(f\"Відповідь: Б) Ймовірність того, що спрацює тільки один сигналізатор: {round(p,3)}\")"
   ]
  }
 ],
 "metadata": {
  "kernelspec": {
   "display_name": "Python 3 (ipykernel)",
   "language": "python",
   "name": "python3"
  },
  "language_info": {
   "codemirror_mode": {
    "name": "ipython",
    "version": 3
   },
   "file_extension": ".py",
   "mimetype": "text/x-python",
   "name": "python",
   "nbconvert_exporter": "python",
   "pygments_lexer": "ipython3",
   "version": "3.10.6"
  }
 },
 "nbformat": 4,
 "nbformat_minor": 5
}
