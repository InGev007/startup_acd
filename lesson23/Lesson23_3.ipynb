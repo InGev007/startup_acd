{
 "cells": [
  {
   "cell_type": "markdown",
   "id": "299031b5",
   "metadata": {},
   "source": [
    "## Завдання 3:"
   ]
  },
  {
   "cell_type": "markdown",
   "id": "f0b2af7b",
   "metadata": {},
   "source": [
    "###  Два верстати-автомати виготовляють однакові вироби, які попадають на загальний конвеєр. Продуктивність першого автомата в два раза більш ніж продуктивність другого. Перший верстат-автомат виготовляє 60 % виробів вищого гатунку, а другий - 84 %."
   ]
  },
  {
   "cell_type": "markdown",
   "id": "8d948798",
   "metadata": {},
   "source": [
    "#### а) Знайти ймовірність того, що навмання взятий з конвеєра виріб виш ґатунку."
   ]
  },
  {
   "cell_type": "markdown",
   "id": "cd13987c",
   "metadata": {},
   "source": [
    "#### б) Навмання взятий з конвеєра виріб має вищий ґатунок. Знайти ймовірність того, що він виготовлений на першому верстаті."
   ]
  },
  {
   "cell_type": "markdown",
   "id": "86d3fbba",
   "metadata": {},
   "source": [
    "## Вирішення:"
   ]
  },
  {
   "cell_type": "markdown",
   "id": "6d961de5",
   "metadata": {},
   "source": [
    "#### Ймовірність того, що навмання взятий з конвеєра виріб виш ґатунку:\n",
    "$ P(V) = (P(1)*2/3) + (P(2)*1/3) $"
   ]
  },
  {
   "cell_type": "code",
   "execution_count": 8,
   "id": "5d32b497",
   "metadata": {},
   "outputs": [
    {
     "name": "stdout",
     "output_type": "stream",
     "text": [
      "Ймовірність того, що навмання взятий з конвеєра виріб виш ґатунку:0.68\n"
     ]
    }
   ],
   "source": [
    "Pv = (0.6*(2/3))+(0.84*(1/3))\n",
    "print(f\"Ймовірність того, що навмання взятий з конвеєра виріб виш ґатунку:{round(Pv,3)}\")"
   ]
  },
  {
   "cell_type": "markdown",
   "id": "c891d262",
   "metadata": {},
   "source": [
    "####  Ймовірність того, що він виготовлений на першому верстаті.\n",
    "$ P(V1) = \\frac{P(1)*\\frac{2}{3}}{P(V)} $"
   ]
  },
  {
   "cell_type": "code",
   "execution_count": 9,
   "id": "915e51f2",
   "metadata": {
    "scrolled": true
   },
   "outputs": [
    {
     "name": "stdout",
     "output_type": "stream",
     "text": [
      "Ймовірність того, що він виготовлений на першому верстаті і є вищ гатунком:0.588\n"
     ]
    }
   ],
   "source": [
    "Pv1 = (0.6*2/3)/Pv\n",
    "print(f\"Ймовірність того, що він виготовлений на першому верстаті і є вищ гатунком:{round(Pv1,3)}\")"
   ]
  }
 ],
 "metadata": {
  "kernelspec": {
   "display_name": "Python 3 (ipykernel)",
   "language": "python",
   "name": "python3"
  },
  "language_info": {
   "codemirror_mode": {
    "name": "ipython",
    "version": 3
   },
   "file_extension": ".py",
   "mimetype": "text/x-python",
   "name": "python",
   "nbconvert_exporter": "python",
   "pygments_lexer": "ipython3",
   "version": "3.10.6"
  }
 },
 "nbformat": 4,
 "nbformat_minor": 5
}
