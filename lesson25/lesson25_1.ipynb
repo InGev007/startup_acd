{
 "cells": [
  {
   "cell_type": "markdown",
   "id": "299031b5",
   "metadata": {},
   "source": [
    "## Завдання 1:"
   ]
  },
  {
   "cell_type": "markdown",
   "id": "f0b2af7b",
   "metadata": {},
   "source": [
    "### Ймовірність того, що при перевірці деталь виявиться стандартною, дорівнює 0,6. Перевірці підлягають З деталі. Побудувати закон розподілу системи двох дискретних випадкових величин X - появи числа бракованих деталей і Y-появи числа стандартних деталей.\n",
    "### Обчислити коефіцієнт кореляції  $ r_{ху}$."
   ]
  },
  {
   "cell_type": "markdown",
   "id": "86d3fbba",
   "metadata": {},
   "source": [
    "## Вирішення:"
   ]
  },
  {
   "cell_type": "markdown",
   "id": "e7b3ec84",
   "metadata": {},
   "source": [
    "#### Побудуємо таблицю розподілу випадкових величин X,Y:\n",
    "$ P(X_iY_j) = C^k_n  p^x q^y = \\frac{n!}{k!(n-k)!} p^x q^y $"
   ]
  },
  {
   "cell_type": "markdown",
   "id": "c07a07af",
   "metadata": {},
   "source": [
    "| Y/X |  0   | 1      | 2       |3       | P(Y) |\n",
    "|:--- |:----:| :----: | :----:  | :----: |  ---:|\n",
    "| 0   | 0    | 0      | 0       | 0,064  |0,064 |\n",
    "| 1   | 0    | 0      | 0,288   | 0      |0,288 |\n",
    "| 2   | 0    | 0,432  | 0       | 0      |0,432 |\n",
    "| 3   | 0,216| 0      | 0       | 0      |0,216 |\n",
    "| P(X)| 0,216| 0,432  | 0,288   | 0,064  |1     |"
   ]
  },
  {
   "cell_type": "markdown",
   "id": "ce8e3855",
   "metadata": {},
   "source": [
    "#### Обчислюємо математичне сподівання для X та Y \n",
    "$M[X] = \\sum_{i=1}^∞X_i P_i $"
   ]
  },
  {
   "cell_type": "code",
   "execution_count": 2,
   "id": "5d32b497",
   "metadata": {},
   "outputs": [
    {
     "name": "stdout",
     "output_type": "stream",
     "text": [
      "Математичне сподівання для X: 1.2\n",
      "Математичне сподівання для Y: 1.8\n"
     ]
    }
   ],
   "source": [
    "Mx=0 * 0.216  +  1 * 0.432  +  2 * 0.288  +  3 * 0.064\n",
    "My=0 * 0.064  +  1 * 0.288  +  2 * 0.432  +  3 * 0.216\n",
    "print(f\"Математичне сподівання для X: {Mx}\")\n",
    "print(f\"Математичне сподівання для Y: {round(My,1)}\")"
   ]
  },
  {
   "cell_type": "markdown",
   "id": "c509b110",
   "metadata": {},
   "source": [
    "#### Знаходимо дисперсію для X та Y:\n",
    "$D(X) =  M(X^2) - M(X)^2$"
   ]
  },
  {
   "cell_type": "code",
   "execution_count": 4,
   "id": "4c573d0a",
   "metadata": {
    "scrolled": true
   },
   "outputs": [
    {
     "name": "stdout",
     "output_type": "stream",
     "text": [
      "Дисперсія для X: 0.72\n",
      "Дисперсія для Y: 0.72\n"
     ]
    }
   ],
   "source": [
    "Dx=(0**2 * 0.216  +  1**2 * 0.432  +  2**2 * 0.288  +  3**2 * 0.064)  - Mx**2\n",
    "Dy=(0**2 * 0.064  +  1**2 * 0.288  +  2**2 * 0.432  +  3**2 * 0.216)  - My**2\n",
    "print(f\"Дисперсія для X: {round(Dx,2)}\")\n",
    "print(f\"Дисперсія для Y: {round(Dy,2)}\")"
   ]
  },
  {
   "cell_type": "markdown",
   "id": "327c4f79",
   "metadata": {},
   "source": [
    "#### Знаходимо середньоквадратичне відхилення для X та Y\n",
    "$\\delta (X) = \\sqrt{D(X)}$"
   ]
  },
  {
   "cell_type": "code",
   "execution_count": 6,
   "id": "f6cbdc86",
   "metadata": {},
   "outputs": [
    {
     "name": "stdout",
     "output_type": "stream",
     "text": [
      "Cередньоквадратичне відхилення для X: 0.85\n",
      "Cередньоквадратичне відхилення для Y: 0.85\n"
     ]
    }
   ],
   "source": [
    "from math import sqrt\n",
    "SDx=sqrt(Dx)\n",
    "SDy=sqrt(Dy)\n",
    "print(f\"Cередньоквадратичне відхилення для X: {round(SDx,2)}\")\n",
    "print(f\"Cередньоквадратичне відхилення для Y: {round(SDy,2)}\")"
   ]
  },
  {
   "cell_type": "markdown",
   "id": "fc016013",
   "metadata": {},
   "source": [
    "#### Знаходимо коваріацію\n",
    "$ cov(X,Y) = M(XY) - M(X) \\bullet M(Y) $"
   ]
  },
  {
   "cell_type": "code",
   "execution_count": 7,
   "id": "89a9523b",
   "metadata": {},
   "outputs": [],
   "source": [
    "Mxy= 0*(0*0+1*0+2*0+3*0.216) + 1*(0*0+1*0+2*0.432+3*0) + 2*(0*0+1*0.288+2*0+3*0) + 3*(0*0.064+1*0+2*0+3*0)"
   ]
  },
  {
   "cell_type": "code",
   "execution_count": 9,
   "id": "3f5a6de6",
   "metadata": {},
   "outputs": [
    {
     "name": "stdout",
     "output_type": "stream",
     "text": [
      "Коваріація: -0.72\n"
     ]
    }
   ],
   "source": [
    "covXY=Mxy-Mx*My\n",
    "print(f\"Коваріація: {round(covXY,2)}\")"
   ]
  },
  {
   "cell_type": "markdown",
   "id": "8c056d9d",
   "metadata": {},
   "source": [
    "#### Знаходимо кореляцію\n",
    "$ r_{xy} = \\frac {cov(X,Y)}{\\delta (X)\\delta (Y)}$ "
   ]
  },
  {
   "cell_type": "code",
   "execution_count": 10,
   "id": "0b22b431",
   "metadata": {},
   "outputs": [
    {
     "name": "stdout",
     "output_type": "stream",
     "text": [
      "Кореляція: -1.0\n"
     ]
    }
   ],
   "source": [
    "Rxy=covXY/(SDx*SDy)\n",
    "print(f\"Кореляція: {round(Rxy,2)}\")"
   ]
  }
 ],
 "metadata": {
  "kernelspec": {
   "display_name": "Python 3 (ipykernel)",
   "language": "python",
   "name": "python3"
  },
  "language_info": {
   "codemirror_mode": {
    "name": "ipython",
    "version": 3
   },
   "file_extension": ".py",
   "mimetype": "text/x-python",
   "name": "python",
   "nbconvert_exporter": "python",
   "pygments_lexer": "ipython3",
   "version": "3.10.6"
  }
 },
 "nbformat": 4,
 "nbformat_minor": 5
}
